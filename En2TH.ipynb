{
 "cells": [
  {
   "cell_type": "markdown",
   "metadata": {},
   "source": [
    "# Content translation from English to Thai "
   ]
  },
  {
   "cell_type": "markdown",
   "metadata": {},
   "source": [
    "## The change of source and target articles after the translation"
   ]
  },
  {
   "cell_type": "markdown",
   "metadata": {},
   "source": [
    "# Table of contents\n",
    "1. [Objectives](#Objectives)\n",
    "2. [Methods](#Methods)\n",
    "3. [Initialization](#Initialization)\n",
    "4. [Data exploration](#Dataexplo)\n",
    "5. [Analyses](#Analyses)\n",
    "\n",
    "   5.1 [Quantitative](#Quantitative)\n",
    "\n",
    "      + [The source article edit amount since it got translated](#sourceEdit)\n",
    "     \n",
    "      + [The target article edit amount since the translation](#targetEdit)\n",
    "        \n",
    "      + [The source article cumulative size change since it got translated](#sourceSizeChange)\n",
    "      \n",
    "      + [The target article cumulative size change since the translation](#targetSizeChange)\n",
    "      \n",
    "      + [Quantitative test discuession](#Quantitativedis)\n",
    "      \n",
    "   5.2 [Qualitative](#Qualitative)\n",
    "   \n",
    "      + [Source article with the highest edit amount since it got translated](#Highse)\n",
    "      \n",
    "      + [Target article with the highest edit amount since the translation](#Highte)\n",
    "      \n",
    "      + [Source article with the highest cumulative size change since it got translated](#Highsc)\n",
    "      \n",
    "      + [Target article with the highest cumulative size change since it the translation](#Hightc)\n",
    "      \n",
    "      + [Qualitative test discuession](#Qualitativedis)\n",
    "      \n",
    "6. [Conclusion](#Conclusion)\n",
    "7. [Opportunities for furture study](#Opportunities)\n",
    "8. [References](#References)\n",
    "9. [Others data explore](#Others)"
   ]
  },
  {
   "cell_type": "markdown",
   "metadata": {},
   "source": [
    "## Objectives <a name=\"Objectives\"></a>\n",
    "+ Count edit times and size changed of articles since the translation\n",
    "+ Find the content that change after the translation\n",
    "+ Find the difference and similarity in the current version of source and target articles after both articles were edited"
   ]
  },
  {
   "cell_type": "markdown",
   "metadata": {},
   "source": [
    "## Methods <a name=\"Methods\"></a>\n",
    "+ Quantitative\n",
    "    + Use revisions API to collect source edit amount since the translation, target edit amount, source size change since the translation, and target size change since the translation\n",
    "    + Create Pandas dataframe to collect and explore the result\n",
    "    + Use tables and graphs to compare the data\n",
    "+ Qualitative\n",
    "    + The articles that have highest edit amount and the largest cumulative size change since the translation were chosen to do qualitative analysis.\n",
    "    + Analyze the the edit content of source and target articles since the translation by using compare selected revisions on history page on Wikipedia and see the change and the detail of the change since the translation date. "
   ]
  },
  {
   "cell_type": "markdown",
   "metadata": {},
   "source": [
    "## Initialization  <a name=\"Initialization\"></a>"
   ]
  },
  {
   "cell_type": "markdown",
   "metadata": {},
   "source": [
    "follow steps according to https://paws-public.wmflabs.org/paws-public/User:Isaac_(WMF)/Content%20Translation%20Example.ipynb#Alternative-view-of-the-data-via-Pandas"
   ]
  },
  {
   "cell_type": "code",
   "execution_count": 1,
   "metadata": {},
   "outputs": [],
   "source": [
    "#imports\n",
    "import gzip\n",
    "import json\n",
    "import re\n",
    "\n",
    "import mwapi\n",
    "import pandas as pd\n",
    "\n",
    "import numpy as np\n",
    "from numpy import nan\n",
    "from scipy import stats\n",
    "\n",
    "import matplotlib.pyplot as plt"
   ]
  },
  {
   "cell_type": "code",
   "execution_count": 2,
   "metadata": {},
   "outputs": [],
   "source": [
    "# get session for English articles\n",
    "session = mwapi.Session(host='https://en.wikipedia.org',\n",
    "                        user_agent='mwapi (python) -- outreachy content translation')"
   ]
  },
  {
   "cell_type": "code",
   "execution_count": 3,
   "metadata": {},
   "outputs": [],
   "source": [
    "# get session for Thai articles\n",
    "session_th = mwapi.Session(host='https://th.wikipedia.org',\n",
    "                        user_agent='mwapi (python) -- outreachy content translation')"
   ]
  },
  {
   "cell_type": "code",
   "execution_count": 4,
   "metadata": {},
   "outputs": [],
   "source": [
    "# articles translated from English -> Thai\n",
    "parameters = {'action':'query',\n",
    "              'format':'json',\n",
    "              'list':'cxpublishedtranslations',\n",
    "              'from':'en',\n",
    "              'to':'th',\n",
    "              'limit':500,\n",
    "              'offset':2500}"
   ]
  },
  {
   "cell_type": "markdown",
   "metadata": {},
   "source": [
    "# Data exploration <a name=\"Dataexplo\"></a>"
   ]
  },
  {
   "cell_type": "code",
   "execution_count": 5,
   "metadata": {},
   "outputs": [],
   "source": [
    "res = session.get(parameters)"
   ]
  },
  {
   "cell_type": "code",
   "execution_count": 6,
   "metadata": {},
   "outputs": [
    {
     "data": {
      "text/html": [
       "<div>\n",
       "<style scoped>\n",
       "    .dataframe tbody tr th:only-of-type {\n",
       "        vertical-align: middle;\n",
       "    }\n",
       "\n",
       "    .dataframe tbody tr th {\n",
       "        vertical-align: top;\n",
       "    }\n",
       "\n",
       "    .dataframe thead th {\n",
       "        text-align: right;\n",
       "    }\n",
       "</style>\n",
       "<table border=\"1\" class=\"dataframe\">\n",
       "  <thead>\n",
       "    <tr style=\"text-align: right;\">\n",
       "      <th></th>\n",
       "      <th>publishedDate</th>\n",
       "      <th>sourceLanguage</th>\n",
       "      <th>sourceRevisionId</th>\n",
       "      <th>sourceTitle</th>\n",
       "      <th>sourceURL</th>\n",
       "      <th>stats</th>\n",
       "      <th>targetLanguage</th>\n",
       "      <th>targetRevisionId</th>\n",
       "      <th>targetTitle</th>\n",
       "      <th>targetURL</th>\n",
       "      <th>translationId</th>\n",
       "    </tr>\n",
       "  </thead>\n",
       "  <tbody>\n",
       "    <tr>\n",
       "      <th>0</th>\n",
       "      <td>20180616090318</td>\n",
       "      <td>en</td>\n",
       "      <td>846093806</td>\n",
       "      <td>Sonia Scurfield</td>\n",
       "      <td>//en.wikipedia.org/wiki/Sonia Scurfield</td>\n",
       "      <td>{'any': 0.41319606925597, 'human': 0.313991576...</td>\n",
       "      <td>th</td>\n",
       "      <td>7678509</td>\n",
       "      <td>ซอนย่า สเกอร์ฟิลด์</td>\n",
       "      <td>//th.wikipedia.org/wiki/ซอนย่า สเกอร์ฟิลด์</td>\n",
       "      <td>491563</td>\n",
       "    </tr>\n",
       "    <tr>\n",
       "      <th>1</th>\n",
       "      <td>20180616092527</td>\n",
       "      <td>en</td>\n",
       "      <td>844984088</td>\n",
       "      <td>Andrew Massey (conductor)</td>\n",
       "      <td>//en.wikipedia.org/wiki/Andrew Massey (conductor)</td>\n",
       "      <td>{'any': 0.92383292383292, 'human': 0.883292383...</td>\n",
       "      <td>th</td>\n",
       "      <td>7678529</td>\n",
       "      <td>แอนดี แมสซีย์ (วาทยากร)</td>\n",
       "      <td>//th.wikipedia.org/wiki/แอนดี แมสซีย์ (วาทยากร)</td>\n",
       "      <td>491571</td>\n",
       "    </tr>\n",
       "    <tr>\n",
       "      <th>2</th>\n",
       "      <td>20180616093431</td>\n",
       "      <td>en</td>\n",
       "      <td>845176394</td>\n",
       "      <td>Sam Moore (publisher)</td>\n",
       "      <td>//en.wikipedia.org/wiki/Sam Moore (publisher)</td>\n",
       "      <td>{'any': 0.42849223946785, 'human': 0.428492239...</td>\n",
       "      <td>th</td>\n",
       "      <td>7678540</td>\n",
       "      <td>ซัม มัวร์ (ผู้เผยแพร่)</td>\n",
       "      <td>//th.wikipedia.org/wiki/ซัม มัวร์ (ผู้เผยแพร่)</td>\n",
       "      <td>491580</td>\n",
       "    </tr>\n",
       "    <tr>\n",
       "      <th>3</th>\n",
       "      <td>20180901233542</td>\n",
       "      <td>en</td>\n",
       "      <td>845016481</td>\n",
       "      <td>André Desvages</td>\n",
       "      <td>//en.wikipedia.org/wiki/André Desvages</td>\n",
       "      <td>{'any': 0.59139784946237, 'human': 0.479569892...</td>\n",
       "      <td>th</td>\n",
       "      <td>7678579</td>\n",
       "      <td>อ็องเดร เดอวาก</td>\n",
       "      <td>//th.wikipedia.org/wiki/อ็องเดร เดอวาก</td>\n",
       "      <td>491589</td>\n",
       "    </tr>\n",
       "    <tr>\n",
       "      <th>4</th>\n",
       "      <td>20180616095938</td>\n",
       "      <td>en</td>\n",
       "      <td>845590955</td>\n",
       "      <td>Johnnie Keyes</td>\n",
       "      <td>//en.wikipedia.org/wiki/Johnnie Keyes</td>\n",
       "      <td>{'any': 0.86713995943205, 'human': 0.735294117...</td>\n",
       "      <td>th</td>\n",
       "      <td>7678608</td>\n",
       "      <td>จอห์นนี่ คียส์</td>\n",
       "      <td>//th.wikipedia.org/wiki/จอห์นนี่ คียส์</td>\n",
       "      <td>491591</td>\n",
       "    </tr>\n",
       "    <tr>\n",
       "      <th>5</th>\n",
       "      <td>20180901233542</td>\n",
       "      <td>en</td>\n",
       "      <td>844509740</td>\n",
       "      <td>Robert Forhan</td>\n",
       "      <td>//en.wikipedia.org/wiki/Robert Forhan</td>\n",
       "      <td>{'any': 0.39078498293515, 'human': 0.322525597...</td>\n",
       "      <td>th</td>\n",
       "      <td>7678635</td>\n",
       "      <td>โรเบิร์ต ฟอร์แฮน</td>\n",
       "      <td>//th.wikipedia.org/wiki/โรเบิร์ต ฟอร์แฮน</td>\n",
       "      <td>491595</td>\n",
       "    </tr>\n",
       "    <tr>\n",
       "      <th>6</th>\n",
       "      <td>20180901233521</td>\n",
       "      <td>en</td>\n",
       "      <td>829989743</td>\n",
       "      <td>Amand Dalem</td>\n",
       "      <td>//en.wikipedia.org/wiki/Amand Dalem</td>\n",
       "      <td>{'any': 0.96084337349398, 'human': 0.960843373...</td>\n",
       "      <td>th</td>\n",
       "      <td>7678839</td>\n",
       "      <td>อามันด์ ดาเลม</td>\n",
       "      <td>//th.wikipedia.org/wiki/อามันด์ ดาเลม</td>\n",
       "      <td>491657</td>\n",
       "    </tr>\n",
       "    <tr>\n",
       "      <th>7</th>\n",
       "      <td>20180616124609</td>\n",
       "      <td>en</td>\n",
       "      <td>823655681</td>\n",
       "      <td>Édouard Ferrand</td>\n",
       "      <td>//en.wikipedia.org/wiki/Édouard Ferrand</td>\n",
       "      <td>{'any': 0.96287703016241, 'human': 0.962877030...</td>\n",
       "      <td>th</td>\n",
       "      <td>7678856</td>\n",
       "      <td>เอดูอาร์ แฟร็อง</td>\n",
       "      <td>//th.wikipedia.org/wiki/เอดูอาร์ แฟร็อง</td>\n",
       "      <td>491660</td>\n",
       "    </tr>\n",
       "    <tr>\n",
       "      <th>8</th>\n",
       "      <td>20180901233519</td>\n",
       "      <td>en</td>\n",
       "      <td>823520159</td>\n",
       "      <td>Zeng Jinyan</td>\n",
       "      <td>//en.wikipedia.org/wiki/Zeng Jinyan</td>\n",
       "      <td>{'any': 0.30705190989226, 'human': 0.215964740...</td>\n",
       "      <td>th</td>\n",
       "      <td>7678890</td>\n",
       "      <td>เจิ้ง จินย่าน</td>\n",
       "      <td>//th.wikipedia.org/wiki/เจิ้ง จินย่าน</td>\n",
       "      <td>491672</td>\n",
       "    </tr>\n",
       "    <tr>\n",
       "      <th>9</th>\n",
       "      <td>20180616232534</td>\n",
       "      <td>en</td>\n",
       "      <td>845477568</td>\n",
       "      <td>Jean-Baptiste Kim</td>\n",
       "      <td>//en.wikipedia.org/wiki/Jean-Baptiste Kim</td>\n",
       "      <td>{'any': 0.617903930131, 'human': 0.61790393013...</td>\n",
       "      <td>th</td>\n",
       "      <td>7679569</td>\n",
       "      <td>จีน-บาติสต์ คิม</td>\n",
       "      <td>//th.wikipedia.org/wiki/จีน-บาติสต์ คิม</td>\n",
       "      <td>491909</td>\n",
       "    </tr>\n",
       "  </tbody>\n",
       "</table>\n",
       "</div>"
      ],
      "text/plain": [
       "    publishedDate sourceLanguage sourceRevisionId                sourceTitle  \\\n",
       "0  20180616090318             en        846093806            Sonia Scurfield   \n",
       "1  20180616092527             en        844984088  Andrew Massey (conductor)   \n",
       "2  20180616093431             en        845176394      Sam Moore (publisher)   \n",
       "3  20180901233542             en        845016481             André Desvages   \n",
       "4  20180616095938             en        845590955              Johnnie Keyes   \n",
       "5  20180901233542             en        844509740              Robert Forhan   \n",
       "6  20180901233521             en        829989743                Amand Dalem   \n",
       "7  20180616124609             en        823655681            Édouard Ferrand   \n",
       "8  20180901233519             en        823520159                Zeng Jinyan   \n",
       "9  20180616232534             en        845477568          Jean-Baptiste Kim   \n",
       "\n",
       "                                           sourceURL  \\\n",
       "0            //en.wikipedia.org/wiki/Sonia Scurfield   \n",
       "1  //en.wikipedia.org/wiki/Andrew Massey (conductor)   \n",
       "2      //en.wikipedia.org/wiki/Sam Moore (publisher)   \n",
       "3             //en.wikipedia.org/wiki/André Desvages   \n",
       "4              //en.wikipedia.org/wiki/Johnnie Keyes   \n",
       "5              //en.wikipedia.org/wiki/Robert Forhan   \n",
       "6                //en.wikipedia.org/wiki/Amand Dalem   \n",
       "7            //en.wikipedia.org/wiki/Édouard Ferrand   \n",
       "8                //en.wikipedia.org/wiki/Zeng Jinyan   \n",
       "9          //en.wikipedia.org/wiki/Jean-Baptiste Kim   \n",
       "\n",
       "                                               stats targetLanguage  \\\n",
       "0  {'any': 0.41319606925597, 'human': 0.313991576...             th   \n",
       "1  {'any': 0.92383292383292, 'human': 0.883292383...             th   \n",
       "2  {'any': 0.42849223946785, 'human': 0.428492239...             th   \n",
       "3  {'any': 0.59139784946237, 'human': 0.479569892...             th   \n",
       "4  {'any': 0.86713995943205, 'human': 0.735294117...             th   \n",
       "5  {'any': 0.39078498293515, 'human': 0.322525597...             th   \n",
       "6  {'any': 0.96084337349398, 'human': 0.960843373...             th   \n",
       "7  {'any': 0.96287703016241, 'human': 0.962877030...             th   \n",
       "8  {'any': 0.30705190989226, 'human': 0.215964740...             th   \n",
       "9  {'any': 0.617903930131, 'human': 0.61790393013...             th   \n",
       "\n",
       "  targetRevisionId              targetTitle  \\\n",
       "0          7678509       ซอนย่า สเกอร์ฟิลด์   \n",
       "1          7678529  แอนดี แมสซีย์ (วาทยากร)   \n",
       "2          7678540   ซัม มัวร์ (ผู้เผยแพร่)   \n",
       "3          7678579           อ็องเดร เดอวาก   \n",
       "4          7678608           จอห์นนี่ คียส์   \n",
       "5          7678635         โรเบิร์ต ฟอร์แฮน   \n",
       "6          7678839            อามันด์ ดาเลม   \n",
       "7          7678856          เอดูอาร์ แฟร็อง   \n",
       "8          7678890            เจิ้ง จินย่าน   \n",
       "9          7679569          จีน-บาติสต์ คิม   \n",
       "\n",
       "                                         targetURL translationId  \n",
       "0       //th.wikipedia.org/wiki/ซอนย่า สเกอร์ฟิลด์        491563  \n",
       "1  //th.wikipedia.org/wiki/แอนดี แมสซีย์ (วาทยากร)        491571  \n",
       "2   //th.wikipedia.org/wiki/ซัม มัวร์ (ผู้เผยแพร่)        491580  \n",
       "3           //th.wikipedia.org/wiki/อ็องเดร เดอวาก        491589  \n",
       "4           //th.wikipedia.org/wiki/จอห์นนี่ คียส์        491591  \n",
       "5         //th.wikipedia.org/wiki/โรเบิร์ต ฟอร์แฮน        491595  \n",
       "6            //th.wikipedia.org/wiki/อามันด์ ดาเลม        491657  \n",
       "7          //th.wikipedia.org/wiki/เอดูอาร์ แฟร็อง        491660  \n",
       "8            //th.wikipedia.org/wiki/เจิ้ง จินย่าน        491672  \n",
       "9          //th.wikipedia.org/wiki/จีน-บาติสต์ คิม        491909  "
      ]
     },
     "execution_count": 6,
     "metadata": {},
     "output_type": "execute_result"
    }
   ],
   "source": [
    "df = pd.DataFrame(res['result']['translations'])\n",
    "df.head(10)"
   ]
  },
  {
   "cell_type": "markdown",
   "metadata": {},
   "source": [
    "#### Explore on stats column"
   ]
  },
  {
   "cell_type": "code",
   "execution_count": 7,
   "metadata": {},
   "outputs": [
    {
     "data": {
      "text/html": [
       "<div>\n",
       "<style scoped>\n",
       "    .dataframe tbody tr th:only-of-type {\n",
       "        vertical-align: middle;\n",
       "    }\n",
       "\n",
       "    .dataframe tbody tr th {\n",
       "        vertical-align: top;\n",
       "    }\n",
       "\n",
       "    .dataframe thead th {\n",
       "        text-align: right;\n",
       "    }\n",
       "</style>\n",
       "<table border=\"1\" class=\"dataframe\">\n",
       "  <thead>\n",
       "    <tr style=\"text-align: right;\">\n",
       "      <th></th>\n",
       "      <th>any</th>\n",
       "      <th>human</th>\n",
       "      <th>mt</th>\n",
       "      <th>mtSectionsCount</th>\n",
       "      <th>translatedSectionsCount</th>\n",
       "    </tr>\n",
       "  </thead>\n",
       "  <tbody>\n",
       "    <tr>\n",
       "      <th>0</th>\n",
       "      <td>0.413196</td>\n",
       "      <td>0.313992</td>\n",
       "      <td>0.099204</td>\n",
       "      <td>1.0</td>\n",
       "      <td>NaN</td>\n",
       "    </tr>\n",
       "    <tr>\n",
       "      <th>1</th>\n",
       "      <td>0.923833</td>\n",
       "      <td>0.883292</td>\n",
       "      <td>0.040541</td>\n",
       "      <td>1.0</td>\n",
       "      <td>NaN</td>\n",
       "    </tr>\n",
       "    <tr>\n",
       "      <th>2</th>\n",
       "      <td>0.428492</td>\n",
       "      <td>0.428492</td>\n",
       "      <td>0.000000</td>\n",
       "      <td>0.0</td>\n",
       "      <td>NaN</td>\n",
       "    </tr>\n",
       "    <tr>\n",
       "      <th>3</th>\n",
       "      <td>0.591398</td>\n",
       "      <td>0.479570</td>\n",
       "      <td>0.111828</td>\n",
       "      <td>1.0</td>\n",
       "      <td>NaN</td>\n",
       "    </tr>\n",
       "    <tr>\n",
       "      <th>4</th>\n",
       "      <td>0.867140</td>\n",
       "      <td>0.735294</td>\n",
       "      <td>0.131846</td>\n",
       "      <td>1.0</td>\n",
       "      <td>NaN</td>\n",
       "    </tr>\n",
       "  </tbody>\n",
       "</table>\n",
       "</div>"
      ],
      "text/plain": [
       "        any     human        mt  mtSectionsCount  translatedSectionsCount\n",
       "0  0.413196  0.313992  0.099204              1.0                      NaN\n",
       "1  0.923833  0.883292  0.040541              1.0                      NaN\n",
       "2  0.428492  0.428492  0.000000              0.0                      NaN\n",
       "3  0.591398  0.479570  0.111828              1.0                      NaN\n",
       "4  0.867140  0.735294  0.131846              1.0                      NaN"
      ]
     },
     "execution_count": 7,
     "metadata": {},
     "output_type": "execute_result"
    }
   ],
   "source": [
    "df_stats = df['stats'].apply(pd.Series)\n",
    "df_stats.head()"
   ]
  },
  {
   "cell_type": "code",
   "execution_count": 8,
   "metadata": {},
   "outputs": [
    {
     "data": {
      "text/html": [
       "<div>\n",
       "<style scoped>\n",
       "    .dataframe tbody tr th:only-of-type {\n",
       "        vertical-align: middle;\n",
       "    }\n",
       "\n",
       "    .dataframe tbody tr th {\n",
       "        vertical-align: top;\n",
       "    }\n",
       "\n",
       "    .dataframe thead th {\n",
       "        text-align: right;\n",
       "    }\n",
       "</style>\n",
       "<table border=\"1\" class=\"dataframe\">\n",
       "  <thead>\n",
       "    <tr style=\"text-align: right;\">\n",
       "      <th></th>\n",
       "      <th>any</th>\n",
       "      <th>human</th>\n",
       "      <th>mt</th>\n",
       "      <th>mtSectionsCount</th>\n",
       "      <th>translatedSectionsCount</th>\n",
       "    </tr>\n",
       "  </thead>\n",
       "  <tbody>\n",
       "    <tr>\n",
       "      <th>count</th>\n",
       "      <td>500.000000</td>\n",
       "      <td>500.000000</td>\n",
       "      <td>500.000000</td>\n",
       "      <td>500.000000</td>\n",
       "      <td>4.000000</td>\n",
       "    </tr>\n",
       "    <tr>\n",
       "      <th>mean</th>\n",
       "      <td>0.724505</td>\n",
       "      <td>0.628018</td>\n",
       "      <td>0.096488</td>\n",
       "      <td>1.532000</td>\n",
       "      <td>20.750000</td>\n",
       "    </tr>\n",
       "    <tr>\n",
       "      <th>std</th>\n",
       "      <td>0.569838</td>\n",
       "      <td>0.583701</td>\n",
       "      <td>0.240336</td>\n",
       "      <td>5.035045</td>\n",
       "      <td>17.783419</td>\n",
       "    </tr>\n",
       "    <tr>\n",
       "      <th>min</th>\n",
       "      <td>0.000000</td>\n",
       "      <td>0.000000</td>\n",
       "      <td>0.000000</td>\n",
       "      <td>0.000000</td>\n",
       "      <td>3.000000</td>\n",
       "    </tr>\n",
       "    <tr>\n",
       "      <th>25%</th>\n",
       "      <td>0.352576</td>\n",
       "      <td>0.239826</td>\n",
       "      <td>0.000000</td>\n",
       "      <td>0.000000</td>\n",
       "      <td>11.250000</td>\n",
       "    </tr>\n",
       "    <tr>\n",
       "      <th>50%</th>\n",
       "      <td>0.574587</td>\n",
       "      <td>0.440298</td>\n",
       "      <td>0.002692</td>\n",
       "      <td>1.000000</td>\n",
       "      <td>17.500000</td>\n",
       "    </tr>\n",
       "    <tr>\n",
       "      <th>75%</th>\n",
       "      <td>0.894474</td>\n",
       "      <td>0.834261</td>\n",
       "      <td>0.062125</td>\n",
       "      <td>1.000000</td>\n",
       "      <td>27.000000</td>\n",
       "    </tr>\n",
       "    <tr>\n",
       "      <th>max</th>\n",
       "      <td>4.302449</td>\n",
       "      <td>4.302449</td>\n",
       "      <td>2.862802</td>\n",
       "      <td>64.000000</td>\n",
       "      <td>45.000000</td>\n",
       "    </tr>\n",
       "  </tbody>\n",
       "</table>\n",
       "</div>"
      ],
      "text/plain": [
       "              any       human          mt  mtSectionsCount  \\\n",
       "count  500.000000  500.000000  500.000000       500.000000   \n",
       "mean     0.724505    0.628018    0.096488         1.532000   \n",
       "std      0.569838    0.583701    0.240336         5.035045   \n",
       "min      0.000000    0.000000    0.000000         0.000000   \n",
       "25%      0.352576    0.239826    0.000000         0.000000   \n",
       "50%      0.574587    0.440298    0.002692         1.000000   \n",
       "75%      0.894474    0.834261    0.062125         1.000000   \n",
       "max      4.302449    4.302449    2.862802        64.000000   \n",
       "\n",
       "       translatedSectionsCount  \n",
       "count                 4.000000  \n",
       "mean                 20.750000  \n",
       "std                  17.783419  \n",
       "min                   3.000000  \n",
       "25%                  11.250000  \n",
       "50%                  17.500000  \n",
       "75%                  27.000000  \n",
       "max                  45.000000  "
      ]
     },
     "execution_count": 8,
     "metadata": {},
     "output_type": "execute_result"
    }
   ],
   "source": [
    "df_stats.describe()"
   ]
  },
  {
   "cell_type": "code",
   "execution_count": 9,
   "metadata": {},
   "outputs": [
    {
     "data": {
      "text/html": [
       "<div>\n",
       "<style scoped>\n",
       "    .dataframe tbody tr th:only-of-type {\n",
       "        vertical-align: middle;\n",
       "    }\n",
       "\n",
       "    .dataframe tbody tr th {\n",
       "        vertical-align: top;\n",
       "    }\n",
       "\n",
       "    .dataframe thead th {\n",
       "        text-align: right;\n",
       "    }\n",
       "</style>\n",
       "<table border=\"1\" class=\"dataframe\">\n",
       "  <thead>\n",
       "    <tr style=\"text-align: right;\">\n",
       "      <th></th>\n",
       "      <th>any</th>\n",
       "      <th>human</th>\n",
       "      <th>mt</th>\n",
       "      <th>mtSectionsCount</th>\n",
       "      <th>translatedSectionsCount</th>\n",
       "    </tr>\n",
       "  </thead>\n",
       "  <tbody>\n",
       "    <tr>\n",
       "      <th>321</th>\n",
       "      <td>3.530609</td>\n",
       "      <td>3.333557</td>\n",
       "      <td>0.197051</td>\n",
       "      <td>1.0</td>\n",
       "      <td>NaN</td>\n",
       "    </tr>\n",
       "    <tr>\n",
       "      <th>378</th>\n",
       "      <td>2.788609</td>\n",
       "      <td>2.788609</td>\n",
       "      <td>0.000000</td>\n",
       "      <td>0.0</td>\n",
       "      <td>NaN</td>\n",
       "    </tr>\n",
       "    <tr>\n",
       "      <th>379</th>\n",
       "      <td>2.508139</td>\n",
       "      <td>2.506511</td>\n",
       "      <td>0.001628</td>\n",
       "      <td>1.0</td>\n",
       "      <td>NaN</td>\n",
       "    </tr>\n",
       "    <tr>\n",
       "      <th>438</th>\n",
       "      <td>2.906087</td>\n",
       "      <td>0.043285</td>\n",
       "      <td>2.862802</td>\n",
       "      <td>1.0</td>\n",
       "      <td>NaN</td>\n",
       "    </tr>\n",
       "    <tr>\n",
       "      <th>440</th>\n",
       "      <td>2.948431</td>\n",
       "      <td>2.948431</td>\n",
       "      <td>0.000000</td>\n",
       "      <td>0.0</td>\n",
       "      <td>NaN</td>\n",
       "    </tr>\n",
       "    <tr>\n",
       "      <th>464</th>\n",
       "      <td>2.911345</td>\n",
       "      <td>2.852139</td>\n",
       "      <td>0.059206</td>\n",
       "      <td>1.0</td>\n",
       "      <td>NaN</td>\n",
       "    </tr>\n",
       "    <tr>\n",
       "      <th>481</th>\n",
       "      <td>2.570600</td>\n",
       "      <td>2.570600</td>\n",
       "      <td>0.000000</td>\n",
       "      <td>0.0</td>\n",
       "      <td>NaN</td>\n",
       "    </tr>\n",
       "    <tr>\n",
       "      <th>485</th>\n",
       "      <td>4.302449</td>\n",
       "      <td>4.302449</td>\n",
       "      <td>0.000000</td>\n",
       "      <td>0.0</td>\n",
       "      <td>NaN</td>\n",
       "    </tr>\n",
       "  </tbody>\n",
       "</table>\n",
       "</div>"
      ],
      "text/plain": [
       "          any     human        mt  mtSectionsCount  translatedSectionsCount\n",
       "321  3.530609  3.333557  0.197051              1.0                      NaN\n",
       "378  2.788609  2.788609  0.000000              0.0                      NaN\n",
       "379  2.508139  2.506511  0.001628              1.0                      NaN\n",
       "438  2.906087  0.043285  2.862802              1.0                      NaN\n",
       "440  2.948431  2.948431  0.000000              0.0                      NaN\n",
       "464  2.911345  2.852139  0.059206              1.0                      NaN\n",
       "481  2.570600  2.570600  0.000000              0.0                      NaN\n",
       "485  4.302449  4.302449  0.000000              0.0                      NaN"
      ]
     },
     "execution_count": 9,
     "metadata": {},
     "output_type": "execute_result"
    }
   ],
   "source": [
    "# Article that has total translation percentage higher than 2.5\n",
    "df_stats[df_stats['any'] > 2.5]"
   ]
  },
  {
   "cell_type": "code",
   "execution_count": 10,
   "metadata": {},
   "outputs": [
    {
     "data": {
      "text/html": [
       "<div>\n",
       "<style scoped>\n",
       "    .dataframe tbody tr th:only-of-type {\n",
       "        vertical-align: middle;\n",
       "    }\n",
       "\n",
       "    .dataframe tbody tr th {\n",
       "        vertical-align: top;\n",
       "    }\n",
       "\n",
       "    .dataframe thead th {\n",
       "        text-align: right;\n",
       "    }\n",
       "</style>\n",
       "<table border=\"1\" class=\"dataframe\">\n",
       "  <thead>\n",
       "    <tr style=\"text-align: right;\">\n",
       "      <th></th>\n",
       "      <th>any</th>\n",
       "      <th>human</th>\n",
       "      <th>mt</th>\n",
       "      <th>mtSectionsCount</th>\n",
       "      <th>translatedSectionsCount</th>\n",
       "    </tr>\n",
       "  </thead>\n",
       "  <tbody>\n",
       "    <tr>\n",
       "      <th>46</th>\n",
       "      <td>1.090814</td>\n",
       "      <td>0.000000</td>\n",
       "      <td>1.090814</td>\n",
       "      <td>8.0</td>\n",
       "      <td>NaN</td>\n",
       "    </tr>\n",
       "    <tr>\n",
       "      <th>419</th>\n",
       "      <td>2.197262</td>\n",
       "      <td>0.060021</td>\n",
       "      <td>2.137241</td>\n",
       "      <td>1.0</td>\n",
       "      <td>NaN</td>\n",
       "    </tr>\n",
       "    <tr>\n",
       "      <th>438</th>\n",
       "      <td>2.906087</td>\n",
       "      <td>0.043285</td>\n",
       "      <td>2.862802</td>\n",
       "      <td>1.0</td>\n",
       "      <td>NaN</td>\n",
       "    </tr>\n",
       "  </tbody>\n",
       "</table>\n",
       "</div>"
      ],
      "text/plain": [
       "          any     human        mt  mtSectionsCount  translatedSectionsCount\n",
       "46   1.090814  0.000000  1.090814              8.0                      NaN\n",
       "419  2.197262  0.060021  2.137241              1.0                      NaN\n",
       "438  2.906087  0.043285  2.862802              1.0                      NaN"
      ]
     },
     "execution_count": 10,
     "metadata": {},
     "output_type": "execute_result"
    }
   ],
   "source": [
    "# Article that has machine translation percentage higher than 1\n",
    "df_stats[df_stats['mt'] > 1]"
   ]
  },
  {
   "cell_type": "markdown",
   "metadata": {},
   "source": [
    "**Note1:** It can be seen that some articles has `any` (total translation percentage) and `mt` (machine translation percentage) higher than 1.\n",
    "Which [Outreachy mentor explained that the number base on word count.](https://phabricator.wikimedia.org/T218003#5029680) So it is possible that word in source article is higher than translated article, resulted in `any` and `mt` higher than 1."
   ]
  },
  {
   "cell_type": "markdown",
   "metadata": {},
   "source": [
    "#### Get corresponding parallel translation"
   ]
  },
  {
   "cell_type": "code",
   "execution_count": 11,
   "metadata": {},
   "outputs": [],
   "source": [
    "#Download dump to access all translated articles\n",
    "json_str = \"\"\n",
    "with gzip.open('cx-corpora.en2th.text.json.gz', 'rt', encoding='utf-8') as fin:\n",
    "    for line in fin:\n",
    "        json_str += line.strip()\n",
    "# remove repetitive commas\n",
    "json_str = re.sub(',{2,}', ',', json_str)\n",
    "parallel_corpus = json.loads(json_str)"
   ]
  },
  {
   "cell_type": "code",
   "execution_count": 12,
   "metadata": {},
   "outputs": [
    {
     "name": "stdout",
     "output_type": "stream",
     "text": [
      "Descriptive statistics:\n",
      "18281 translated sections.\n",
      "2669 translated articles.\n"
     ]
    }
   ],
   "source": [
    "print(\"Descriptive statistics:\")\n",
    "print(\"{0} translated sections.\".format(len(parallel_corpus)))\n",
    "print(\"{0} translated articles.\".format(len(set(sec['id'].split('/')[0] for sec in parallel_corpus))))"
   ]
  },
  {
   "cell_type": "markdown",
   "metadata": {},
   "source": [
    "**Note2:** according to [statistic on Thai Wikipedia](https://th.wikipedia.org/w/index.php?title=%E0%B8%9E%E0%B8%B4%E0%B9%80%E0%B8%A8%E0%B8%A9:%E0%B8%AA%E0%B8%96%E0%B8%B4%E0%B8%95%E0%B8%B4&action=raw), a total articles on Thai Wikipedia are 130,431 articles (The statistic data in 20 March 2019)."
   ]
  },
  {
   "cell_type": "markdown",
   "metadata": {},
   "source": [
    "#### parallel translation data explore"
   ]
  },
  {
   "cell_type": "code",
   "execution_count": 13,
   "metadata": {},
   "outputs": [
    {
     "name": "stdout",
     "output_type": "stream",
     "text": [
      "Machine translation services used: {'no-mt': 16474, 'Yandex': 1642, 'Google': 165}\n"
     ]
    }
   ],
   "source": [
    "mt_counts = {}\n",
    "for sec in parallel_corpus:\n",
    "    if sec['mt']:\n",
    "        service = sec['mt']['engine']\n",
    "        mt_counts[service] = mt_counts.get(service, 0) + 1\n",
    "    else:\n",
    "        mt_counts['no-mt'] = mt_counts.get('no-mt', 0) + 1\n",
    "print(\"Machine translation services used: {0}\".format(mt_counts))"
   ]
  },
  {
   "cell_type": "markdown",
   "metadata": {},
   "source": [
    "# Analyses <a name=\"Analyses\"></a>"
   ]
  },
  {
   "cell_type": "markdown",
   "metadata": {},
   "source": [
    "## Quantitative <a name=\"Quantitative\"></a>"
   ]
  },
  {
   "cell_type": "markdown",
   "metadata": {},
   "source": [
    "In quantitative analysis, edit and size change of source and target articles were investigated.\n",
    "\n",
    "+ `dateCreatingTarget` is the date and time when the article got translated\n",
    "\n",
    "+ `sourceEdit` is the source article edit amount since it got translated (amount of the edit that happened after `dateCreatingTarget`)\n",
    "\n",
    "+ `targetEdit` is  the target article edit amount since the translation\n",
    "\n",
    "+ `sourceSizeChange` is the source article cumulative size change since it got translated (either removed or added has been sum as positive value)\n",
    "\n",
    "+ `targetSizeChange` is  the target article cumulative size change since it the translation (either removed or added has been sum as positive value)\n",
    "\n",
    "In the code below, `\"rvstartid\"` parameter are start at source revision ID and target revision ID which mean only data that related to translated article are collected. \n",
    "\n",
    "The data list from oldest to newer. In source data (English articles), the first row of the data is the version that use to translated into Thai. In target data (Thai articles), the first row of the data is the article that translated by using parallel translation from English to Thai."
   ]
  },
  {
   "cell_type": "code",
   "execution_count": 14,
   "metadata": {},
   "outputs": [],
   "source": [
    "#create empty dict for adding data\n",
    "edit_n_size_df = {'sourceTitle':[],\n",
    "                            'sourceRevisionId':[],\n",
    "                            'targetTitle':[],\n",
    "                            'targetRevisionId':[],\n",
    "                            'dateCreatingTarget':[],\n",
    "                            'sourceEdit':[],\n",
    "                            'targetEdit':[],\n",
    "                            'sourceSizeChange':[],\n",
    "                            'targetSizeChange':[]\n",
    "                            }\n",
    "\n",
    "#loop through 500 articles\n",
    "for i in range(0,500):\n",
    "    source_title = df.loc[i, 'sourceTitle']\n",
    "    source_revid = df.loc[i, 'sourceRevisionId']\n",
    "    target_title = df.loc[i, 'targetTitle']\n",
    "    tid = df.loc[i,'targetRevisionId']\n",
    "    \n",
    "    edit_n_size_df['sourceTitle'].append(source_title)\n",
    "    edit_n_size_df['sourceRevisionId'].append(source_revid)\n",
    "    edit_n_size_df['targetTitle'].append(target_title)\n",
    "    edit_n_size_df['targetRevisionId'].append(tid)\n",
    "    \n",
    "    # create paremeters for collect revision data from source articles\n",
    "    revision_parameters_s = {\n",
    "        \"action\": \"query\",\n",
    "        \"prop\": \"revisions\",\n",
    "        \"titles\": source_title,\n",
    "        \"rvprop\": \"timestamp|size|comment\",\n",
    "        \"rvlimit\": 500,    # no more than 500 allowed\n",
    "        \"rvstartid\": source_revid,\n",
    "        \"rvslots\": \"main\",\n",
    "        \"formatversion\": \"2\",\n",
    "        \"format\": \"json\",\n",
    "        \"rvdir\": \"newer\",    # from oldest to newer\n",
    "        \"redirects\": True\n",
    "        }\n",
    "    # revision data from source articles\n",
    "    source_revisions = session.get(revision_parameters_s)\n",
    "    \n",
    "    # create paremeters for collect revision data from target articles\n",
    "    revision_parameters_t = {\n",
    "        \"action\": \"query\",\n",
    "        \"prop\": \"revisions\",\n",
    "        \"titles\": target_title,\n",
    "        \"rvprop\": \"timestamp|size|comment\",\n",
    "        \"rvlimit\": 500,    # no more than 500 allowed\n",
    "        \"rvstartid\": tid,\n",
    "        \"rvslots\": \"main\",\n",
    "        \"formatversion\": \"2\",\n",
    "        \"format\": \"json\",\n",
    "        \"rvdir\": \"newer\",    # from oldest to newer\n",
    "        \"redirects\": True\n",
    "        }\n",
    "    # revision data from target articles\n",
    "    target_revisions = session_th.get(revision_parameters_t)\n",
    "    \n",
    "    # missing data\n",
    "    if (target_title == \"\") or (('revisions' in target_revisions['query']['pages'][0])==False) or (( 'moved page' in source_revisions['query']['pages'][0]['revisions'][0]['comment']) == True) or (('missing' in target_revisions['query']['pages'][0]) == True):\n",
    "        edit_n_size_df['dateCreatingTarget'].append(np.nan)\n",
    "        edit_n_size_df['sourceEdit'].append(np.nan)\n",
    "        edit_n_size_df['targetEdit'].append(np.nan)\n",
    "        edit_n_size_df['sourceSizeChange'].append(np.nan)\n",
    "        edit_n_size_df['targetSizeChange'].append(np.nan)\n",
    "\n",
    "    else:\n",
    "    \n",
    "        # collect date of creating target article\n",
    "        date_c_target = target_revisions['query']['pages'][0]['revisions'][0]['timestamp']\n",
    "    \n",
    "        # count source edit amount since it got translated\n",
    "        source_edit_all = len(source_revisions['query']['pages'][0]['revisions'])    # all edit\n",
    "        source_edit = source_edit_all -1 # minus the article that got translated\n",
    "        \n",
    "        # count target edit amount\n",
    "        target_edit_all = len(target_revisions['query']['pages'][0]['revisions'])\n",
    "        target_edit = target_edit_all-1 # minus the original translated article\n",
    "    \n",
    "        # find cumulative size change of source article since it got translated. Calculated by find size different between edit and sum those size different\n",
    "        source_size = 0\n",
    "        for r in range(source_edit_all-1):    # source_edit_all is also a row number \n",
    "            diff_size = source_revisions['query']['pages'][0]['revisions'][r+1]['size'] - source_revisions['query']['pages'][0]['revisions'][r]['size'] # newer size  - older size\n",
    "            source_size += abs(diff_size) # wants to see the sum of the size that change, either decrease or increase of the size don't matter. So I put absolute there\n",
    "           \n",
    "        # find cumulative target size change\n",
    "        target_size = 0\n",
    "        for r in range(target_edit_all-1):    # target_edit is also a row number\n",
    "            diff_size = target_revisions['query']['pages'][0]['revisions'][r+1]['size'] - target_revisions['query']['pages'][0]['revisions'][r]['size'] # newer size  - older size\n",
    "            target_size += abs(diff_size) # wants to see the sum of the size that change, either decrease or increase of the size don't matter. So I put absolute there\n",
    "    \n",
    "        # append data to dictionary\n",
    "        edit_n_size_df['dateCreatingTarget'].append(date_c_target)\n",
    "        edit_n_size_df['sourceEdit'].append(source_edit)\n",
    "        edit_n_size_df['targetEdit'].append(target_edit)\n",
    "        edit_n_size_df['sourceSizeChange'].append(source_size)\n",
    "        edit_n_size_df['targetSizeChange'].append(target_size)"
   ]
  },
  {
   "cell_type": "code",
   "execution_count": 15,
   "metadata": {},
   "outputs": [],
   "source": [
    "edit_n_size_pd = pd.DataFrame(edit_n_size_df)"
   ]
  },
  {
   "cell_type": "code",
   "execution_count": 16,
   "metadata": {},
   "outputs": [
    {
     "data": {
      "text/html": [
       "<div>\n",
       "<style scoped>\n",
       "    .dataframe tbody tr th:only-of-type {\n",
       "        vertical-align: middle;\n",
       "    }\n",
       "\n",
       "    .dataframe tbody tr th {\n",
       "        vertical-align: top;\n",
       "    }\n",
       "\n",
       "    .dataframe thead th {\n",
       "        text-align: right;\n",
       "    }\n",
       "</style>\n",
       "<table border=\"1\" class=\"dataframe\">\n",
       "  <thead>\n",
       "    <tr style=\"text-align: right;\">\n",
       "      <th></th>\n",
       "      <th>sourceTitle</th>\n",
       "      <th>sourceRevisionId</th>\n",
       "      <th>targetTitle</th>\n",
       "      <th>targetRevisionId</th>\n",
       "      <th>dateCreatingTarget</th>\n",
       "      <th>sourceEdit</th>\n",
       "      <th>targetEdit</th>\n",
       "      <th>sourceSizeChange</th>\n",
       "      <th>targetSizeChange</th>\n",
       "    </tr>\n",
       "  </thead>\n",
       "  <tbody>\n",
       "    <tr>\n",
       "      <th>0</th>\n",
       "      <td>Sonia Scurfield</td>\n",
       "      <td>846093806</td>\n",
       "      <td>ซอนย่า สเกอร์ฟิลด์</td>\n",
       "      <td>7678509</td>\n",
       "      <td>2018-06-16T09:03:18Z</td>\n",
       "      <td>3.0</td>\n",
       "      <td>1.0</td>\n",
       "      <td>58.0</td>\n",
       "      <td>81.0</td>\n",
       "    </tr>\n",
       "    <tr>\n",
       "      <th>1</th>\n",
       "      <td>Andrew Massey (conductor)</td>\n",
       "      <td>844984088</td>\n",
       "      <td>แอนดี แมสซีย์ (วาทยากร)</td>\n",
       "      <td>7678529</td>\n",
       "      <td>2018-06-16T09:25:27Z</td>\n",
       "      <td>10.0</td>\n",
       "      <td>1.0</td>\n",
       "      <td>364.0</td>\n",
       "      <td>4.0</td>\n",
       "    </tr>\n",
       "    <tr>\n",
       "      <th>2</th>\n",
       "      <td>Sam Moore (publisher)</td>\n",
       "      <td>845176394</td>\n",
       "      <td>ซัม มัวร์ (ผู้เผยแพร่)</td>\n",
       "      <td>7678540</td>\n",
       "      <td>2018-06-16T09:34:31Z</td>\n",
       "      <td>1.0</td>\n",
       "      <td>2.0</td>\n",
       "      <td>10.0</td>\n",
       "      <td>85.0</td>\n",
       "    </tr>\n",
       "    <tr>\n",
       "      <th>3</th>\n",
       "      <td>André Desvages</td>\n",
       "      <td>845016481</td>\n",
       "      <td>อ็องเดร เดอวาก</td>\n",
       "      <td>7678579</td>\n",
       "      <td>2018-06-16T09:47:32Z</td>\n",
       "      <td>2.0</td>\n",
       "      <td>2.0</td>\n",
       "      <td>184.0</td>\n",
       "      <td>127.0</td>\n",
       "    </tr>\n",
       "    <tr>\n",
       "      <th>4</th>\n",
       "      <td>Johnnie Keyes</td>\n",
       "      <td>845590955</td>\n",
       "      <td>จอห์นนี่ คียส์</td>\n",
       "      <td>7678608</td>\n",
       "      <td>2018-06-16T09:59:38Z</td>\n",
       "      <td>10.0</td>\n",
       "      <td>2.0</td>\n",
       "      <td>434.0</td>\n",
       "      <td>340.0</td>\n",
       "    </tr>\n",
       "  </tbody>\n",
       "</table>\n",
       "</div>"
      ],
      "text/plain": [
       "                 sourceTitle sourceRevisionId              targetTitle  \\\n",
       "0            Sonia Scurfield        846093806       ซอนย่า สเกอร์ฟิลด์   \n",
       "1  Andrew Massey (conductor)        844984088  แอนดี แมสซีย์ (วาทยากร)   \n",
       "2      Sam Moore (publisher)        845176394   ซัม มัวร์ (ผู้เผยแพร่)   \n",
       "3             André Desvages        845016481           อ็องเดร เดอวาก   \n",
       "4              Johnnie Keyes        845590955           จอห์นนี่ คียส์   \n",
       "\n",
       "  targetRevisionId    dateCreatingTarget  sourceEdit  targetEdit  \\\n",
       "0          7678509  2018-06-16T09:03:18Z         3.0         1.0   \n",
       "1          7678529  2018-06-16T09:25:27Z        10.0         1.0   \n",
       "2          7678540  2018-06-16T09:34:31Z         1.0         2.0   \n",
       "3          7678579  2018-06-16T09:47:32Z         2.0         2.0   \n",
       "4          7678608  2018-06-16T09:59:38Z        10.0         2.0   \n",
       "\n",
       "   sourceSizeChange  targetSizeChange  \n",
       "0              58.0              81.0  \n",
       "1             364.0               4.0  \n",
       "2              10.0              85.0  \n",
       "3             184.0             127.0  \n",
       "4             434.0             340.0  "
      ]
     },
     "execution_count": 16,
     "metadata": {},
     "output_type": "execute_result"
    }
   ],
   "source": [
    "edit_n_size_pd.head(5)"
   ]
  },
  {
   "cell_type": "code",
   "execution_count": 17,
   "metadata": {},
   "outputs": [
    {
     "data": {
      "text/html": [
       "<div>\n",
       "<style scoped>\n",
       "    .dataframe tbody tr th:only-of-type {\n",
       "        vertical-align: middle;\n",
       "    }\n",
       "\n",
       "    .dataframe tbody tr th {\n",
       "        vertical-align: top;\n",
       "    }\n",
       "\n",
       "    .dataframe thead th {\n",
       "        text-align: right;\n",
       "    }\n",
       "</style>\n",
       "<table border=\"1\" class=\"dataframe\">\n",
       "  <thead>\n",
       "    <tr style=\"text-align: right;\">\n",
       "      <th></th>\n",
       "      <th>sourceTitle</th>\n",
       "      <th>sourceRevisionId</th>\n",
       "      <th>targetTitle</th>\n",
       "      <th>targetRevisionId</th>\n",
       "      <th>dateCreatingTarget</th>\n",
       "      <th>sourceEdit</th>\n",
       "      <th>targetEdit</th>\n",
       "      <th>sourceSizeChange</th>\n",
       "      <th>targetSizeChange</th>\n",
       "    </tr>\n",
       "  </thead>\n",
       "  <tbody>\n",
       "    <tr>\n",
       "      <th>495</th>\n",
       "      <td>Michael Eilberg</td>\n",
       "      <td>874054976</td>\n",
       "      <td>ไมเคิล จอร์จ ไอล์เบิร์ก</td>\n",
       "      <td>8050199</td>\n",
       "      <td>2019-01-06T03:45:58Z</td>\n",
       "      <td>0.0</td>\n",
       "      <td>2.0</td>\n",
       "      <td>0.0</td>\n",
       "      <td>83.0</td>\n",
       "    </tr>\n",
       "    <tr>\n",
       "      <th>496</th>\n",
       "      <td>Frank Errington</td>\n",
       "      <td>869002862</td>\n",
       "      <td>แฟรงก์ เออร์ริงตัน</td>\n",
       "      <td>8050214</td>\n",
       "      <td>2019-01-06T03:55:21Z</td>\n",
       "      <td>0.0</td>\n",
       "      <td>2.0</td>\n",
       "      <td>0.0</td>\n",
       "      <td>321.0</td>\n",
       "    </tr>\n",
       "    <tr>\n",
       "      <th>497</th>\n",
       "      <td>Abigail Edmonds</td>\n",
       "      <td>833951699</td>\n",
       "      <td>อบิเกล เอ็ดมอนดส์</td>\n",
       "      <td>8050220</td>\n",
       "      <td>2019-01-06T03:58:51Z</td>\n",
       "      <td>0.0</td>\n",
       "      <td>1.0</td>\n",
       "      <td>0.0</td>\n",
       "      <td>2.0</td>\n",
       "    </tr>\n",
       "    <tr>\n",
       "      <th>498</th>\n",
       "      <td>Barry Lillywhite</td>\n",
       "      <td>871774084</td>\n",
       "      <td>แบร์รี ลิลลิไวไฮต์</td>\n",
       "      <td>8050228</td>\n",
       "      <td>2019-01-06T04:02:16Z</td>\n",
       "      <td>0.0</td>\n",
       "      <td>2.0</td>\n",
       "      <td>0.0</td>\n",
       "      <td>113.0</td>\n",
       "    </tr>\n",
       "    <tr>\n",
       "      <th>499</th>\n",
       "      <td>Blake Nordstrom</td>\n",
       "      <td>877051179</td>\n",
       "      <td>เบลก นอร์ดสตรอม</td>\n",
       "      <td>8050883</td>\n",
       "      <td>2019-01-06T10:20:26Z</td>\n",
       "      <td>37.0</td>\n",
       "      <td>1.0</td>\n",
       "      <td>9024.0</td>\n",
       "      <td>2.0</td>\n",
       "    </tr>\n",
       "  </tbody>\n",
       "</table>\n",
       "</div>"
      ],
      "text/plain": [
       "          sourceTitle sourceRevisionId              targetTitle  \\\n",
       "495   Michael Eilberg        874054976  ไมเคิล จอร์จ ไอล์เบิร์ก   \n",
       "496   Frank Errington        869002862       แฟรงก์ เออร์ริงตัน   \n",
       "497   Abigail Edmonds        833951699        อบิเกล เอ็ดมอนดส์   \n",
       "498  Barry Lillywhite        871774084       แบร์รี ลิลลิไวไฮต์   \n",
       "499   Blake Nordstrom        877051179          เบลก นอร์ดสตรอม   \n",
       "\n",
       "    targetRevisionId    dateCreatingTarget  sourceEdit  targetEdit  \\\n",
       "495          8050199  2019-01-06T03:45:58Z         0.0         2.0   \n",
       "496          8050214  2019-01-06T03:55:21Z         0.0         2.0   \n",
       "497          8050220  2019-01-06T03:58:51Z         0.0         1.0   \n",
       "498          8050228  2019-01-06T04:02:16Z         0.0         2.0   \n",
       "499          8050883  2019-01-06T10:20:26Z        37.0         1.0   \n",
       "\n",
       "     sourceSizeChange  targetSizeChange  \n",
       "495               0.0              83.0  \n",
       "496               0.0             321.0  \n",
       "497               0.0               2.0  \n",
       "498               0.0             113.0  \n",
       "499            9024.0               2.0  "
      ]
     },
     "execution_count": 17,
     "metadata": {},
     "output_type": "execute_result"
    }
   ],
   "source": [
    "edit_n_size_pd.tail(5)"
   ]
  },
  {
   "cell_type": "code",
   "execution_count": 18,
   "metadata": {},
   "outputs": [
    {
     "data": {
      "text/html": [
       "<div>\n",
       "<style scoped>\n",
       "    .dataframe tbody tr th:only-of-type {\n",
       "        vertical-align: middle;\n",
       "    }\n",
       "\n",
       "    .dataframe tbody tr th {\n",
       "        vertical-align: top;\n",
       "    }\n",
       "\n",
       "    .dataframe thead th {\n",
       "        text-align: right;\n",
       "    }\n",
       "</style>\n",
       "<table border=\"1\" class=\"dataframe\">\n",
       "  <thead>\n",
       "    <tr style=\"text-align: right;\">\n",
       "      <th></th>\n",
       "      <th>sourceEdit</th>\n",
       "      <th>targetEdit</th>\n",
       "      <th>sourceSizeChange</th>\n",
       "      <th>targetSizeChange</th>\n",
       "    </tr>\n",
       "  </thead>\n",
       "  <tbody>\n",
       "    <tr>\n",
       "      <th>count</th>\n",
       "      <td>477.000000</td>\n",
       "      <td>477.000000</td>\n",
       "      <td>477.000000</td>\n",
       "      <td>477.000000</td>\n",
       "    </tr>\n",
       "    <tr>\n",
       "      <th>mean</th>\n",
       "      <td>8.637317</td>\n",
       "      <td>2.484277</td>\n",
       "      <td>2446.643606</td>\n",
       "      <td>741.364780</td>\n",
       "    </tr>\n",
       "    <tr>\n",
       "      <th>std</th>\n",
       "      <td>34.145643</td>\n",
       "      <td>7.224656</td>\n",
       "      <td>24895.305229</td>\n",
       "      <td>3159.728396</td>\n",
       "    </tr>\n",
       "    <tr>\n",
       "      <th>min</th>\n",
       "      <td>0.000000</td>\n",
       "      <td>0.000000</td>\n",
       "      <td>0.000000</td>\n",
       "      <td>0.000000</td>\n",
       "    </tr>\n",
       "    <tr>\n",
       "      <th>25%</th>\n",
       "      <td>0.000000</td>\n",
       "      <td>0.000000</td>\n",
       "      <td>0.000000</td>\n",
       "      <td>0.000000</td>\n",
       "    </tr>\n",
       "    <tr>\n",
       "      <th>50%</th>\n",
       "      <td>1.000000</td>\n",
       "      <td>1.000000</td>\n",
       "      <td>20.000000</td>\n",
       "      <td>25.000000</td>\n",
       "    </tr>\n",
       "    <tr>\n",
       "      <th>75%</th>\n",
       "      <td>4.000000</td>\n",
       "      <td>2.000000</td>\n",
       "      <td>276.000000</td>\n",
       "      <td>144.000000</td>\n",
       "    </tr>\n",
       "    <tr>\n",
       "      <th>max</th>\n",
       "      <td>499.000000</td>\n",
       "      <td>120.000000</td>\n",
       "      <td>528397.000000</td>\n",
       "      <td>36104.000000</td>\n",
       "    </tr>\n",
       "  </tbody>\n",
       "</table>\n",
       "</div>"
      ],
      "text/plain": [
       "       sourceEdit  targetEdit  sourceSizeChange  targetSizeChange\n",
       "count  477.000000  477.000000        477.000000        477.000000\n",
       "mean     8.637317    2.484277       2446.643606        741.364780\n",
       "std     34.145643    7.224656      24895.305229       3159.728396\n",
       "min      0.000000    0.000000          0.000000          0.000000\n",
       "25%      0.000000    0.000000          0.000000          0.000000\n",
       "50%      1.000000    1.000000         20.000000         25.000000\n",
       "75%      4.000000    2.000000        276.000000        144.000000\n",
       "max    499.000000  120.000000     528397.000000      36104.000000"
      ]
     },
     "execution_count": 18,
     "metadata": {},
     "output_type": "execute_result"
    }
   ],
   "source": [
    "#data describe\n",
    "edit_n_size_pd.describe()"
   ]
  },
  {
   "cell_type": "markdown",
   "metadata": {},
   "source": [
    "### The source article edit amount since it got translated (sourceEdit) <a name=\"sourceEdit\"></a>"
   ]
  },
  {
   "cell_type": "code",
   "execution_count": 19,
   "metadata": {},
   "outputs": [
    {
     "data": {
      "text/html": [
       "<div>\n",
       "<style scoped>\n",
       "    .dataframe tbody tr th:only-of-type {\n",
       "        vertical-align: middle;\n",
       "    }\n",
       "\n",
       "    .dataframe tbody tr th {\n",
       "        vertical-align: top;\n",
       "    }\n",
       "\n",
       "    .dataframe thead th {\n",
       "        text-align: right;\n",
       "    }\n",
       "</style>\n",
       "<table border=\"1\" class=\"dataframe\">\n",
       "  <thead>\n",
       "    <tr style=\"text-align: right;\">\n",
       "      <th></th>\n",
       "      <th>sourceTitle</th>\n",
       "      <th>sourceRevisionId</th>\n",
       "      <th>targetTitle</th>\n",
       "      <th>targetRevisionId</th>\n",
       "      <th>dateCreatingTarget</th>\n",
       "      <th>sourceEdit</th>\n",
       "      <th>targetEdit</th>\n",
       "      <th>sourceSizeChange</th>\n",
       "      <th>targetSizeChange</th>\n",
       "    </tr>\n",
       "  </thead>\n",
       "  <tbody>\n",
       "    <tr>\n",
       "      <th>376</th>\n",
       "      <td>Deaths in 2019</td>\n",
       "      <td>876398709</td>\n",
       "      <td>บุคคลที่เสียชีวิตในปี พ.ศ. 2562</td>\n",
       "      <td>8042701</td>\n",
       "      <td>2019-01-02T03:20:02Z</td>\n",
       "      <td>499.0</td>\n",
       "      <td>52.0</td>\n",
       "      <td>60613.0</td>\n",
       "      <td>9057.0</td>\n",
       "    </tr>\n",
       "    <tr>\n",
       "      <th>24</th>\n",
       "      <td>MacOS Mojave</td>\n",
       "      <td>847186226</td>\n",
       "      <td>macOS Mojave</td>\n",
       "      <td>7693429</td>\n",
       "      <td>2018-06-24T14:20:58Z</td>\n",
       "      <td>304.0</td>\n",
       "      <td>8.0</td>\n",
       "      <td>21780.0</td>\n",
       "      <td>546.0</td>\n",
       "    </tr>\n",
       "    <tr>\n",
       "      <th>291</th>\n",
       "      <td>New Caledonian independence referendum, 2018</td>\n",
       "      <td>858388704</td>\n",
       "      <td>การลงประชามติเอกราชนิวแคลิโดเนีย ค.ศ. 2018</td>\n",
       "      <td>7849015</td>\n",
       "      <td>2018-09-16T12:50:56Z</td>\n",
       "      <td>226.0</td>\n",
       "      <td>6.0</td>\n",
       "      <td>27692.0</td>\n",
       "      <td>2883.0</td>\n",
       "    </tr>\n",
       "    <tr>\n",
       "      <th>315</th>\n",
       "      <td>Sebastian Stan</td>\n",
       "      <td>860325883</td>\n",
       "      <td>เซบาสเตียน สแตน</td>\n",
       "      <td>7875543</td>\n",
       "      <td>2018-09-30T07:08:10Z</td>\n",
       "      <td>200.0</td>\n",
       "      <td>14.0</td>\n",
       "      <td>16418.0</td>\n",
       "      <td>4445.0</td>\n",
       "    </tr>\n",
       "    <tr>\n",
       "      <th>327</th>\n",
       "      <td>Goblin Slayer</td>\n",
       "      <td>866058978</td>\n",
       "      <td>ก็อบลิน สเลเยอร์</td>\n",
       "      <td>7926159</td>\n",
       "      <td>2018-10-28T09:50:59Z</td>\n",
       "      <td>152.0</td>\n",
       "      <td>10.0</td>\n",
       "      <td>78860.0</td>\n",
       "      <td>5998.0</td>\n",
       "    </tr>\n",
       "  </tbody>\n",
       "</table>\n",
       "</div>"
      ],
      "text/plain": [
       "                                      sourceTitle sourceRevisionId  \\\n",
       "376                                Deaths in 2019        876398709   \n",
       "24                                   MacOS Mojave        847186226   \n",
       "291  New Caledonian independence referendum, 2018        858388704   \n",
       "315                                Sebastian Stan        860325883   \n",
       "327                                 Goblin Slayer        866058978   \n",
       "\n",
       "                                    targetTitle targetRevisionId  \\\n",
       "376             บุคคลที่เสียชีวิตในปี พ.ศ. 2562          8042701   \n",
       "24                                macOS Mojave           7693429   \n",
       "291  การลงประชามติเอกราชนิวแคลิโดเนีย ค.ศ. 2018          7849015   \n",
       "315                             เซบาสเตียน สแตน          7875543   \n",
       "327                            ก็อบลิน สเลเยอร์          7926159   \n",
       "\n",
       "       dateCreatingTarget  sourceEdit  targetEdit  sourceSizeChange  \\\n",
       "376  2019-01-02T03:20:02Z       499.0        52.0           60613.0   \n",
       "24   2018-06-24T14:20:58Z       304.0         8.0           21780.0   \n",
       "291  2018-09-16T12:50:56Z       226.0         6.0           27692.0   \n",
       "315  2018-09-30T07:08:10Z       200.0        14.0           16418.0   \n",
       "327  2018-10-28T09:50:59Z       152.0        10.0           78860.0   \n",
       "\n",
       "     targetSizeChange  \n",
       "376            9057.0  \n",
       "24              546.0  \n",
       "291            2883.0  \n",
       "315            4445.0  \n",
       "327            5998.0  "
      ]
     },
     "execution_count": 19,
     "metadata": {},
     "output_type": "execute_result"
    }
   ],
   "source": [
    "edit_n_size_pd.nlargest(5, ['sourceEdit'])"
   ]
  },
  {
   "cell_type": "markdown",
   "metadata": {},
   "source": [
    "**Note3:**  <a name=\"Note3\"></a> \n",
    "The `rvlimit` in parameters for collect revision data from source articles is limit at 500. However, the maximum showed in `sourceEdit` is 499 instead of 500 because the parameter `rvdir` is set to \"newer\" which mean it was listed from the oldest to the newer articles. The oldest article of source article is the version that use to translated into target article. Therefore, the oldest article in In Deaths in 2019 didn't got count into `sourceEdit`."
   ]
  },
  {
   "cell_type": "code",
   "execution_count": 20,
   "metadata": {},
   "outputs": [
    {
     "data": {
      "text/plain": [
       "(array([443.,  16.,   5.,   3.,   5.,   0.,   1.,   0.,   1.,   1.,   0.,\n",
       "          0.,   1.,   0.,   0.,   0.,   0.,   0.,   0.,   1.]),\n",
       " array([  0.  ,  24.95,  49.9 ,  74.85,  99.8 , 124.75, 149.7 , 174.65,\n",
       "        199.6 , 224.55, 249.5 , 274.45, 299.4 , 324.35, 349.3 , 374.25,\n",
       "        399.2 , 424.15, 449.1 , 474.05, 499.  ]),\n",
       " <a list of 20 Patch objects>)"
      ]
     },
     "execution_count": 20,
     "metadata": {},
     "output_type": "execute_result"
    },
    {
     "data": {
      "image/png": "[encoded data removed]",
      "text/plain": [
       "<Figure size 432x288 with 1 Axes>"
      ]
     },
     "metadata": {},
     "output_type": "display_data"
    }
   ],
   "source": [
    "# Histogram of sourceEdit\n",
    "plt.hist(edit_n_size_pd['sourceEdit'][~np.isnan(edit_n_size_pd['sourceEdit'])], bins =20)   # exclude NaN"
   ]
  },
  {
   "cell_type": "code",
   "execution_count": 21,
   "metadata": {},
   "outputs": [
    {
     "name": "stdout",
     "output_type": "stream",
     "text": [
      "The total articles that is not NaN is 477\n",
      "Most frequent edit amount per article is 0.0 time.\n",
      "The number of articles that have been edited 0.0 time is 191\n",
      "The number of articles that have been edited 1 time is 88\n"
     ]
    }
   ],
   "source": [
    "total_not_nan_se = len(edit_n_size_pd['sourceEdit'][~np.isnan(edit_n_size_pd['sourceEdit'])])\n",
    "stat_mode_se = stats.mode(edit_n_size_pd['sourceEdit'][~np.isnan(edit_n_size_pd['sourceEdit'])])[0][0]\n",
    "mode_freq_se = stats.mode(edit_n_size_pd['sourceEdit'][~np.isnan(edit_n_size_pd['sourceEdit'])])[1][0]\n",
    "\n",
    "print('The total articles that is not NaN is '+str(total_not_nan_se))\n",
    "print('Most frequent edit amount per article is '+str(stat_mode_se)+' time.')\n",
    "print('The number of articles that have been edited '+str(stat_mode_se)+' time is '+str(mode_freq_se))\n",
    "print('The number of articles that have been edited 1 time is '+str(len(edit_n_size_pd[edit_n_size_pd['sourceEdit']==1] )))"
   ]
  },
  {
   "cell_type": "markdown",
   "metadata": {},
   "source": [
    "###  The target article edit amount since the translation (targetEdit) <a name=\"targetEdit\"></a>"
   ]
  },
  {
   "cell_type": "code",
   "execution_count": 22,
   "metadata": {},
   "outputs": [
    {
     "data": {
      "text/html": [
       "<div>\n",
       "<style scoped>\n",
       "    .dataframe tbody tr th:only-of-type {\n",
       "        vertical-align: middle;\n",
       "    }\n",
       "\n",
       "    .dataframe tbody tr th {\n",
       "        vertical-align: top;\n",
       "    }\n",
       "\n",
       "    .dataframe thead th {\n",
       "        text-align: right;\n",
       "    }\n",
       "</style>\n",
       "<table border=\"1\" class=\"dataframe\">\n",
       "  <thead>\n",
       "    <tr style=\"text-align: right;\">\n",
       "      <th></th>\n",
       "      <th>sourceTitle</th>\n",
       "      <th>sourceRevisionId</th>\n",
       "      <th>targetTitle</th>\n",
       "      <th>targetRevisionId</th>\n",
       "      <th>dateCreatingTarget</th>\n",
       "      <th>sourceEdit</th>\n",
       "      <th>targetEdit</th>\n",
       "      <th>sourceSizeChange</th>\n",
       "      <th>targetSizeChange</th>\n",
       "    </tr>\n",
       "  </thead>\n",
       "  <tbody>\n",
       "    <tr>\n",
       "      <th>324</th>\n",
       "      <td>List of mango cultivars</td>\n",
       "      <td>861744980</td>\n",
       "      <td>รายชื่อพันธุ์มะม่วง</td>\n",
       "      <td>7893244</td>\n",
       "      <td>2018-10-09T09:24:43Z</td>\n",
       "      <td>11.0</td>\n",
       "      <td>120.0</td>\n",
       "      <td>2203.0</td>\n",
       "      <td>6043.0</td>\n",
       "    </tr>\n",
       "    <tr>\n",
       "      <th>376</th>\n",
       "      <td>Deaths in 2019</td>\n",
       "      <td>876398709</td>\n",
       "      <td>บุคคลที่เสียชีวิตในปี พ.ศ. 2562</td>\n",
       "      <td>8042701</td>\n",
       "      <td>2019-01-02T03:20:02Z</td>\n",
       "      <td>499.0</td>\n",
       "      <td>52.0</td>\n",
       "      <td>60613.0</td>\n",
       "      <td>9057.0</td>\n",
       "    </tr>\n",
       "    <tr>\n",
       "      <th>61</th>\n",
       "      <td>Find Your Way</td>\n",
       "      <td>853018077</td>\n",
       "      <td>ไฟด์ยัวร์เวย์</td>\n",
       "      <td>7777929</td>\n",
       "      <td>2018-08-12T06:03:49Z</td>\n",
       "      <td>2.0</td>\n",
       "      <td>50.0</td>\n",
       "      <td>93.0</td>\n",
       "      <td>4567.0</td>\n",
       "    </tr>\n",
       "    <tr>\n",
       "      <th>345</th>\n",
       "      <td>Isan Pattaya</td>\n",
       "      <td>835833752</td>\n",
       "      <td>สโมสรฟุตบอลอีสาน ดีบีชออร่า พัทยา</td>\n",
       "      <td>7966349</td>\n",
       "      <td>2018-11-19T15:30:55Z</td>\n",
       "      <td>14.0</td>\n",
       "      <td>35.0</td>\n",
       "      <td>2164.0</td>\n",
       "      <td>26704.0</td>\n",
       "    </tr>\n",
       "    <tr>\n",
       "      <th>67</th>\n",
       "      <td>Under My Skin (Gabrielle album)</td>\n",
       "      <td>856381641</td>\n",
       "      <td>อันเดอร์มายสกิน</td>\n",
       "      <td>7803885</td>\n",
       "      <td>2018-08-26T03:00:57Z</td>\n",
       "      <td>14.0</td>\n",
       "      <td>30.0</td>\n",
       "      <td>2698.0</td>\n",
       "      <td>5310.0</td>\n",
       "    </tr>\n",
       "  </tbody>\n",
       "</table>\n",
       "</div>"
      ],
      "text/plain": [
       "                         sourceTitle sourceRevisionId  \\\n",
       "324          List of mango cultivars        861744980   \n",
       "376                   Deaths in 2019        876398709   \n",
       "61                     Find Your Way        853018077   \n",
       "345                     Isan Pattaya        835833752   \n",
       "67   Under My Skin (Gabrielle album)        856381641   \n",
       "\n",
       "                           targetTitle targetRevisionId    dateCreatingTarget  \\\n",
       "324                รายชื่อพันธุ์มะม่วง          7893244  2018-10-09T09:24:43Z   \n",
       "376    บุคคลที่เสียชีวิตในปี พ.ศ. 2562          8042701  2019-01-02T03:20:02Z   \n",
       "61                       ไฟด์ยัวร์เวย์          7777929  2018-08-12T06:03:49Z   \n",
       "345  สโมสรฟุตบอลอีสาน ดีบีชออร่า พัทยา          7966349  2018-11-19T15:30:55Z   \n",
       "67                     อันเดอร์มายสกิน          7803885  2018-08-26T03:00:57Z   \n",
       "\n",
       "     sourceEdit  targetEdit  sourceSizeChange  targetSizeChange  \n",
       "324        11.0       120.0            2203.0            6043.0  \n",
       "376       499.0        52.0           60613.0            9057.0  \n",
       "61          2.0        50.0              93.0            4567.0  \n",
       "345        14.0        35.0            2164.0           26704.0  \n",
       "67         14.0        30.0            2698.0            5310.0  "
      ]
     },
     "execution_count": 22,
     "metadata": {},
     "output_type": "execute_result"
    }
   ],
   "source": [
    "edit_n_size_pd.nlargest(5, 'targetEdit')"
   ]
  },
  {
   "cell_type": "code",
   "execution_count": 23,
   "metadata": {},
   "outputs": [
    {
     "data": {
      "text/plain": [
       "(array([439.,  25.,   3.,   3.,   2.,   2.,   0.,   0.,   2.,   0.,   0.,\n",
       "          0.,   0.,   0.,   0.,   0.,   0.,   0.,   0.,   1.]),\n",
       " array([  0.,   6.,  12.,  18.,  24.,  30.,  36.,  42.,  48.,  54.,  60.,\n",
       "         66.,  72.,  78.,  84.,  90.,  96., 102., 108., 114., 120.]),\n",
       " <a list of 20 Patch objects>)"
      ]
     },
     "execution_count": 23,
     "metadata": {},
     "output_type": "execute_result"
    },
    {
     "data": {
      "image/png": "[encoded data removed]",
      "text/plain": [
       "<Figure size 432x288 with 1 Axes>"
      ]
     },
     "metadata": {},
     "output_type": "display_data"
    }
   ],
   "source": [
    "# Histogram of targetEdit\n",
    "plt.hist(edit_n_size_pd['targetEdit'][~np.isnan(edit_n_size_pd['targetEdit'])], bins =20)   # exclude NaN"
   ]
  },
  {
   "cell_type": "code",
   "execution_count": 24,
   "metadata": {},
   "outputs": [
    {
     "name": "stdout",
     "output_type": "stream",
     "text": [
      "The total articles that is not NaN is 477\n",
      "Most frequent edit amount per article is 0.0 time.\n",
      "The number of articles that have been edited 0.0 time is 139\n",
      "The number of articles that have been edited 1 time is 138\n"
     ]
    }
   ],
   "source": [
    "total_not_nan_te = len(edit_n_size_pd['targetEdit'][~np.isnan(edit_n_size_pd['targetEdit'])])\n",
    "stat_mode_te = stats.mode(edit_n_size_pd['targetEdit'][~np.isnan(edit_n_size_pd['targetEdit'])])[0][0]\n",
    "mode_freq_te = stats.mode(edit_n_size_pd['targetEdit'][~np.isnan(edit_n_size_pd['targetEdit'])])[1][0]\n",
    "\n",
    "print('The total articles that is not NaN is '+str(total_not_nan_te))\n",
    "print('Most frequent edit amount per article is '+str(stat_mode_te)+' time.')\n",
    "print('The number of articles that have been edited '+str(stat_mode_te)+' time is '+str(mode_freq_te))\n",
    "print('The number of articles that have been edited 1 time is '+str(len(edit_n_size_pd[edit_n_size_pd['targetEdit']==1] )))"
   ]
  },
  {
   "cell_type": "markdown",
   "metadata": {},
   "source": [
    "### The source article cumulative size change since it got translated (sourceSizeChange) <a name=\"sourceSizeChange\"></a>"
   ]
  },
  {
   "cell_type": "code",
   "execution_count": 25,
   "metadata": {},
   "outputs": [
    {
     "data": {
      "text/html": [
       "<div>\n",
       "<style scoped>\n",
       "    .dataframe tbody tr th:only-of-type {\n",
       "        vertical-align: middle;\n",
       "    }\n",
       "\n",
       "    .dataframe tbody tr th {\n",
       "        vertical-align: top;\n",
       "    }\n",
       "\n",
       "    .dataframe thead th {\n",
       "        text-align: right;\n",
       "    }\n",
       "</style>\n",
       "<table border=\"1\" class=\"dataframe\">\n",
       "  <thead>\n",
       "    <tr style=\"text-align: right;\">\n",
       "      <th></th>\n",
       "      <th>sourceTitle</th>\n",
       "      <th>sourceRevisionId</th>\n",
       "      <th>targetTitle</th>\n",
       "      <th>targetRevisionId</th>\n",
       "      <th>dateCreatingTarget</th>\n",
       "      <th>sourceEdit</th>\n",
       "      <th>targetEdit</th>\n",
       "      <th>sourceSizeChange</th>\n",
       "      <th>targetSizeChange</th>\n",
       "    </tr>\n",
       "  </thead>\n",
       "  <tbody>\n",
       "    <tr>\n",
       "      <th>424</th>\n",
       "      <td>Hindenburg disaster</td>\n",
       "      <td>875776290</td>\n",
       "      <td>วินาศภัยไฮเดลเบิร์ก</td>\n",
       "      <td>8047957</td>\n",
       "      <td>2019-01-05T01:47:44Z</td>\n",
       "      <td>70.0</td>\n",
       "      <td>2.0</td>\n",
       "      <td>528397.0</td>\n",
       "      <td>125.0</td>\n",
       "    </tr>\n",
       "    <tr>\n",
       "      <th>327</th>\n",
       "      <td>Goblin Slayer</td>\n",
       "      <td>866058978</td>\n",
       "      <td>ก็อบลิน สเลเยอร์</td>\n",
       "      <td>7926159</td>\n",
       "      <td>2018-10-28T09:50:59Z</td>\n",
       "      <td>152.0</td>\n",
       "      <td>10.0</td>\n",
       "      <td>78860.0</td>\n",
       "      <td>5998.0</td>\n",
       "    </tr>\n",
       "    <tr>\n",
       "      <th>376</th>\n",
       "      <td>Deaths in 2019</td>\n",
       "      <td>876398709</td>\n",
       "      <td>บุคคลที่เสียชีวิตในปี พ.ศ. 2562</td>\n",
       "      <td>8042701</td>\n",
       "      <td>2019-01-02T03:20:02Z</td>\n",
       "      <td>499.0</td>\n",
       "      <td>52.0</td>\n",
       "      <td>60613.0</td>\n",
       "      <td>9057.0</td>\n",
       "    </tr>\n",
       "    <tr>\n",
       "      <th>34</th>\n",
       "      <td>List of Seventeen concert tours</td>\n",
       "      <td>849101456</td>\n",
       "      <td>รายชื่อทัวร์คอนเสิร์ตและแฟนมีตติงของเซเวนทีน</td>\n",
       "      <td>7715180</td>\n",
       "      <td>2018-07-07T07:05:09Z</td>\n",
       "      <td>82.0</td>\n",
       "      <td>18.0</td>\n",
       "      <td>44978.0</td>\n",
       "      <td>36104.0</td>\n",
       "    </tr>\n",
       "    <tr>\n",
       "      <th>18</th>\n",
       "      <td>Treaty of Hudaybiyyah</td>\n",
       "      <td>846946779</td>\n",
       "      <td>สนธิสัญญาฮุดัยบิยะฮ์</td>\n",
       "      <td>7723118</td>\n",
       "      <td>2018-07-11T13:59:17Z</td>\n",
       "      <td>81.0</td>\n",
       "      <td>0.0</td>\n",
       "      <td>39781.0</td>\n",
       "      <td>0.0</td>\n",
       "    </tr>\n",
       "  </tbody>\n",
       "</table>\n",
       "</div>"
      ],
      "text/plain": [
       "                         sourceTitle sourceRevisionId  \\\n",
       "424              Hindenburg disaster        875776290   \n",
       "327                    Goblin Slayer        866058978   \n",
       "376                   Deaths in 2019        876398709   \n",
       "34   List of Seventeen concert tours        849101456   \n",
       "18             Treaty of Hudaybiyyah        846946779   \n",
       "\n",
       "                                      targetTitle targetRevisionId  \\\n",
       "424                           วินาศภัยไฮเดลเบิร์ก          8047957   \n",
       "327                              ก็อบลิน สเลเยอร์          7926159   \n",
       "376               บุคคลที่เสียชีวิตในปี พ.ศ. 2562          8042701   \n",
       "34   รายชื่อทัวร์คอนเสิร์ตและแฟนมีตติงของเซเวนทีน          7715180   \n",
       "18                           สนธิสัญญาฮุดัยบิยะฮ์          7723118   \n",
       "\n",
       "       dateCreatingTarget  sourceEdit  targetEdit  sourceSizeChange  \\\n",
       "424  2019-01-05T01:47:44Z        70.0         2.0          528397.0   \n",
       "327  2018-10-28T09:50:59Z       152.0        10.0           78860.0   \n",
       "376  2019-01-02T03:20:02Z       499.0        52.0           60613.0   \n",
       "34   2018-07-07T07:05:09Z        82.0        18.0           44978.0   \n",
       "18   2018-07-11T13:59:17Z        81.0         0.0           39781.0   \n",
       "\n",
       "     targetSizeChange  \n",
       "424             125.0  \n",
       "327            5998.0  \n",
       "376            9057.0  \n",
       "34            36104.0  \n",
       "18                0.0  "
      ]
     },
     "execution_count": 25,
     "metadata": {},
     "output_type": "execute_result"
    }
   ],
   "source": [
    "edit_n_size_pd.nlargest(5, 'sourceSizeChange')"
   ]
  },
  {
   "cell_type": "code",
   "execution_count": 26,
   "metadata": {},
   "outputs": [
    {
     "data": {
      "text/plain": [
       "(array([471.,   3.,   2.,   0.,   0.,   0.,   0.,   0.,   0.,   0.,   0.,\n",
       "          0.,   0.,   0.,   0.,   0.,   0.,   0.,   0.,   1.]),\n",
       " array([     0.  ,  26419.85,  52839.7 ,  79259.55, 105679.4 , 132099.25,\n",
       "        158519.1 , 184938.95, 211358.8 , 237778.65, 264198.5 , 290618.35,\n",
       "        317038.2 , 343458.05, 369877.9 , 396297.75, 422717.6 , 449137.45,\n",
       "        475557.3 , 501977.15, 528397.  ]),\n",
       " <a list of 20 Patch objects>)"
      ]
     },
     "execution_count": 26,
     "metadata": {},
     "output_type": "execute_result"
    },
    {
     "data": {
      "image/png": "[encoded data removed]",
      "text/plain": [
       "<Figure size 432x288 with 1 Axes>"
      ]
     },
     "metadata": {},
     "output_type": "display_data"
    }
   ],
   "source": [
    "# Histogram of sourceSizeChange\n",
    "plt.hist(edit_n_size_pd['sourceSizeChange'][~np.isnan(edit_n_size_pd['sourceSizeChange'])], bins =20)   # exclude NaN"
   ]
  },
  {
   "cell_type": "code",
   "execution_count": 27,
   "metadata": {},
   "outputs": [
    {
     "name": "stdout",
     "output_type": "stream",
     "text": [
      "The total articles that is not NaN is 477\n",
      "Most frequent size change per article is 0.0 byte.\n",
      "The number of articles that have total size change equal to 0.0 byte is 200\n",
      "The median of size chage is 20.0 bytes.\n"
     ]
    }
   ],
   "source": [
    "total_not_nan_sc = len(edit_n_size_pd['sourceSizeChange'][~np.isnan(edit_n_size_pd['sourceSizeChange'])])\n",
    "stat_mode_sc = stats.mode(edit_n_size_pd['sourceSizeChange'][~np.isnan(edit_n_size_pd['sourceSizeChange'])])[0][0]\n",
    "mode_freq_sc = stats.mode(edit_n_size_pd['sourceSizeChange'][~np.isnan(edit_n_size_pd['sourceSizeChange'])])[1][0]\n",
    "median_sc = np.median(edit_n_size_pd['sourceSizeChange'][~np.isnan(edit_n_size_pd['sourceSizeChange'])])\n",
    "\n",
    "print('The total articles that is not NaN is '+str(total_not_nan_sc))\n",
    "print('Most frequent size change per article is '+str(stat_mode_sc)+' byte.')\n",
    "print('The number of articles that have total size change equal to '+str(stat_mode_sc)+' byte is '+str(mode_freq_sc))\n",
    "print('The median of size chage is '+str(median_sc)+' bytes.')"
   ]
  },
  {
   "cell_type": "markdown",
   "metadata": {},
   "source": [
    "###  The target article cumulative size change since it the translation (targetSizeChange) <a name=\"targetSizeChange\"></a>"
   ]
  },
  {
   "cell_type": "code",
   "execution_count": 28,
   "metadata": {},
   "outputs": [
    {
     "data": {
      "text/html": [
       "<div>\n",
       "<style scoped>\n",
       "    .dataframe tbody tr th:only-of-type {\n",
       "        vertical-align: middle;\n",
       "    }\n",
       "\n",
       "    .dataframe tbody tr th {\n",
       "        vertical-align: top;\n",
       "    }\n",
       "\n",
       "    .dataframe thead th {\n",
       "        text-align: right;\n",
       "    }\n",
       "</style>\n",
       "<table border=\"1\" class=\"dataframe\">\n",
       "  <thead>\n",
       "    <tr style=\"text-align: right;\">\n",
       "      <th></th>\n",
       "      <th>sourceTitle</th>\n",
       "      <th>sourceRevisionId</th>\n",
       "      <th>targetTitle</th>\n",
       "      <th>targetRevisionId</th>\n",
       "      <th>dateCreatingTarget</th>\n",
       "      <th>sourceEdit</th>\n",
       "      <th>targetEdit</th>\n",
       "      <th>sourceSizeChange</th>\n",
       "      <th>targetSizeChange</th>\n",
       "    </tr>\n",
       "  </thead>\n",
       "  <tbody>\n",
       "    <tr>\n",
       "      <th>34</th>\n",
       "      <td>List of Seventeen concert tours</td>\n",
       "      <td>849101456</td>\n",
       "      <td>รายชื่อทัวร์คอนเสิร์ตและแฟนมีตติงของเซเวนทีน</td>\n",
       "      <td>7715180</td>\n",
       "      <td>2018-07-07T07:05:09Z</td>\n",
       "      <td>82.0</td>\n",
       "      <td>18.0</td>\n",
       "      <td>44978.0</td>\n",
       "      <td>36104.0</td>\n",
       "    </tr>\n",
       "    <tr>\n",
       "      <th>352</th>\n",
       "      <td>List of legislatures by number of members</td>\n",
       "      <td>869603280</td>\n",
       "      <td>รายชื่อสภานิติบัญญัติแห่งชาติตามจำนวนสมาชิก</td>\n",
       "      <td>7982431</td>\n",
       "      <td>2018-11-28T11:46:26Z</td>\n",
       "      <td>3.0</td>\n",
       "      <td>4.0</td>\n",
       "      <td>123.0</td>\n",
       "      <td>29282.0</td>\n",
       "    </tr>\n",
       "    <tr>\n",
       "      <th>345</th>\n",
       "      <td>Isan Pattaya</td>\n",
       "      <td>835833752</td>\n",
       "      <td>สโมสรฟุตบอลอีสาน ดีบีชออร่า พัทยา</td>\n",
       "      <td>7966349</td>\n",
       "      <td>2018-11-19T15:30:55Z</td>\n",
       "      <td>14.0</td>\n",
       "      <td>35.0</td>\n",
       "      <td>2164.0</td>\n",
       "      <td>26704.0</td>\n",
       "    </tr>\n",
       "    <tr>\n",
       "      <th>354</th>\n",
       "      <td>List of countries by body mass index</td>\n",
       "      <td>870854912</td>\n",
       "      <td>รายชื่อประเทศเรียงตามดัชนีมวลกาย</td>\n",
       "      <td>7982462</td>\n",
       "      <td>2018-11-28T12:13:27Z</td>\n",
       "      <td>36.0</td>\n",
       "      <td>7.0</td>\n",
       "      <td>898.0</td>\n",
       "      <td>22626.0</td>\n",
       "    </tr>\n",
       "    <tr>\n",
       "      <th>92</th>\n",
       "      <td>List of elevation extremes by country</td>\n",
       "      <td>853994442</td>\n",
       "      <td>รายชื่อประเทศเรียงตามระดับความสูง</td>\n",
       "      <td>7826515</td>\n",
       "      <td>2018-09-06T13:30:46Z</td>\n",
       "      <td>22.0</td>\n",
       "      <td>6.0</td>\n",
       "      <td>1374.0</td>\n",
       "      <td>19504.0</td>\n",
       "    </tr>\n",
       "  </tbody>\n",
       "</table>\n",
       "</div>"
      ],
      "text/plain": [
       "                                   sourceTitle sourceRevisionId  \\\n",
       "34             List of Seventeen concert tours        849101456   \n",
       "352  List of legislatures by number of members        869603280   \n",
       "345                               Isan Pattaya        835833752   \n",
       "354       List of countries by body mass index        870854912   \n",
       "92       List of elevation extremes by country        853994442   \n",
       "\n",
       "                                      targetTitle targetRevisionId  \\\n",
       "34   รายชื่อทัวร์คอนเสิร์ตและแฟนมีตติงของเซเวนทีน          7715180   \n",
       "352   รายชื่อสภานิติบัญญัติแห่งชาติตามจำนวนสมาชิก          7982431   \n",
       "345             สโมสรฟุตบอลอีสาน ดีบีชออร่า พัทยา          7966349   \n",
       "354              รายชื่อประเทศเรียงตามดัชนีมวลกาย          7982462   \n",
       "92              รายชื่อประเทศเรียงตามระดับความสูง          7826515   \n",
       "\n",
       "       dateCreatingTarget  sourceEdit  targetEdit  sourceSizeChange  \\\n",
       "34   2018-07-07T07:05:09Z        82.0        18.0           44978.0   \n",
       "352  2018-11-28T11:46:26Z         3.0         4.0             123.0   \n",
       "345  2018-11-19T15:30:55Z        14.0        35.0            2164.0   \n",
       "354  2018-11-28T12:13:27Z        36.0         7.0             898.0   \n",
       "92   2018-09-06T13:30:46Z        22.0         6.0            1374.0   \n",
       "\n",
       "     targetSizeChange  \n",
       "34            36104.0  \n",
       "352           29282.0  \n",
       "345           26704.0  \n",
       "354           22626.0  \n",
       "92            19504.0  "
      ]
     },
     "execution_count": 28,
     "metadata": {},
     "output_type": "execute_result"
    }
   ],
   "source": [
    "edit_n_size_pd.nlargest(5, 'targetSizeChange')"
   ]
  },
  {
   "cell_type": "code",
   "execution_count": 29,
   "metadata": {},
   "outputs": [
    {
     "data": {
      "text/plain": [
       "(array([441.,  12.,   7.,   4.,   3.,   4.,   0.,   0.,   0.,   1.,   1.,\n",
       "          0.,   1.,   0.,   1.,   0.,   1.,   0.,   0.,   1.]),\n",
       " array([    0. ,  1805.2,  3610.4,  5415.6,  7220.8,  9026. , 10831.2,\n",
       "        12636.4, 14441.6, 16246.8, 18052. , 19857.2, 21662.4, 23467.6,\n",
       "        25272.8, 27078. , 28883.2, 30688.4, 32493.6, 34298.8, 36104. ]),\n",
       " <a list of 20 Patch objects>)"
      ]
     },
     "execution_count": 29,
     "metadata": {},
     "output_type": "execute_result"
    },
    {
     "data": {
      "image/png": "[encoded data removed]",
      "text/plain": [
       "<Figure size 432x288 with 1 Axes>"
      ]
     },
     "metadata": {},
     "output_type": "display_data"
    }
   ],
   "source": [
    "# Histogram of targetSizeChange\n",
    "plt.hist(edit_n_size_pd['targetSizeChange'][~np.isnan(edit_n_size_pd['targetSizeChange'])], bins =20)   # exclude NaN"
   ]
  },
  {
   "cell_type": "code",
   "execution_count": 30,
   "metadata": {},
   "outputs": [
    {
     "name": "stdout",
     "output_type": "stream",
     "text": [
      "The total articles that is not NaN is 477\n",
      "Most frequent size change per article is 0.0 byte.\n",
      "The number of articles that have total size change equal to 0.0 byte is 152\n",
      "The median of size chage is 25.0 bytes.\n"
     ]
    }
   ],
   "source": [
    "total_not_nan_tc = len(edit_n_size_pd['targetSizeChange'][~np.isnan(edit_n_size_pd['targetSizeChange'])])\n",
    "stat_mode_tc = stats.mode(edit_n_size_pd['targetSizeChange'][~np.isnan(edit_n_size_pd['targetSizeChange'])])[0][0]\n",
    "mode_freq_tc = stats.mode(edit_n_size_pd['targetSizeChange'][~np.isnan(edit_n_size_pd['targetSizeChange'])])[1][0]\n",
    "median_tc = np.median(edit_n_size_pd['targetSizeChange'][~np.isnan(edit_n_size_pd['targetSizeChange'])])\n",
    "\n",
    "print('The total articles that is not NaN is '+str(total_not_nan_tc))\n",
    "print('Most frequent size change per article is '+str(stat_mode_tc)+' byte.')\n",
    "print('The number of articles that have total size change equal to '+str(stat_mode_tc)+' byte is '+str(mode_freq_tc))\n",
    "print('The median of size chage is '+str(median_tc)+' bytes.')"
   ]
  },
  {
   "cell_type": "markdown",
   "metadata": {},
   "source": [
    "#### The graph between edit and size change (The graphs present specific x and y axis)"
   ]
  },
  {
   "cell_type": "code",
   "execution_count": 31,
   "metadata": {},
   "outputs": [
    {
     "data": {
      "text/plain": [
       "Text(0.5,1,'targetEdit vs targetSizeChange')"
      ]
     },
     "execution_count": 31,
     "metadata": {},
     "output_type": "execute_result"
    },
    {
     "data": {
      "image/png": "[encoded data removed]",
      "text/plain": [
       "<Figure size 800x400 with 2 Axes>"
      ]
     },
     "metadata": {},
     "output_type": "display_data"
    }
   ],
   "source": [
    "from matplotlib.pyplot import figure\n",
    "figure(num=None, figsize=(10, 5), dpi=80)\n",
    "\n",
    "plt.subplot(1,2,1)\n",
    "plt.scatter(edit_n_size_pd['sourceEdit'],edit_n_size_pd['sourceSizeChange'], alpha = 0.5)\n",
    "plt.xlim(0,50)\n",
    "plt.ylim(0, 5000)\n",
    "plt.xlabel('sourceEdit')\n",
    "plt.ylabel('sourceSizeChange')\n",
    "plt.title('sourceEdit vs sourceSizeChange')\n",
    "\n",
    "plt.subplot(1,2,2)\n",
    "plt.scatter(edit_n_size_pd['targetEdit'],edit_n_size_pd['targetSizeChange'],alpha = 0.5)\n",
    "plt.xlim(0,50)\n",
    "plt.ylim(0, 5000)\n",
    "plt.xlabel('targetEdit')\n",
    "plt.ylabel('targetSizeChange')\n",
    "plt.title('targetEdit vs targetSizeChange')"
   ]
  },
  {
   "cell_type": "code",
   "execution_count": 32,
   "metadata": {},
   "outputs": [
    {
     "name": "stdout",
     "output_type": "stream",
     "text": [
      "Pearson correlation coefficient of sourceEdit vs sourceSizeChange is 0.2724694988938787\n",
      "Pearson correlation coefficient of targetEdit vs targetSizeChange is 0.3911723532110324\n"
     ]
    }
   ],
   "source": [
    "# Pearson correlation coefficient of  sourceEdit vs sourceSizeChange\n",
    "sesc_r = np.corrcoef(edit_n_size_pd['sourceEdit'][~np.isnan(edit_n_size_pd['sourceEdit'])],edit_n_size_pd['sourceSizeChange'][~np.isnan(edit_n_size_pd['sourceSizeChange'])])[0,1]\n",
    "print('Pearson correlation coefficient of sourceEdit vs sourceSizeChange is '+str(sesc_r))\n",
    "\n",
    "# Pearson correlation coefficient of  targetEdit vs targetSizeChange\n",
    "tetc_r = np.corrcoef(edit_n_size_pd['targetEdit'][~np.isnan(edit_n_size_pd['targetEdit'])],edit_n_size_pd['targetSizeChange'][~np.isnan(edit_n_size_pd['targetSizeChange'])])[0,1]\n",
    "print('Pearson correlation coefficient of targetEdit vs targetSizeChange is '+ str(tetc_r))"
   ]
  },
  {
   "cell_type": "markdown",
   "metadata": {},
   "source": [
    "#### The graph between source edit and target edit, and between source size change and target size change (The graphs present specific x and y axis)"
   ]
  },
  {
   "cell_type": "code",
   "execution_count": 33,
   "metadata": {},
   "outputs": [
    {
     "data": {
      "text/plain": [
       "Text(0.5,1,'sourceSizeChange vs targetSizeChange')"
      ]
     },
     "execution_count": 33,
     "metadata": {},
     "output_type": "execute_result"
    },
    {
     "data": {
      "image/png": "[encoded data removed]",
      "text/plain": [
       "<Figure size 800x400 with 2 Axes>"
      ]
     },
     "metadata": {},
     "output_type": "display_data"
    }
   ],
   "source": [
    "figure(num=None, figsize=(10, 5), dpi=80)\n",
    "\n",
    "plt.subplot(1,2,1)\n",
    "plt.scatter(edit_n_size_pd['sourceEdit'],edit_n_size_pd['targetEdit'], alpha = 0.5)\n",
    "plt.xlim(0,100)\n",
    "plt.ylim(0, 100)\n",
    "plt.xlabel('sourceEdit')\n",
    "plt.ylabel('targetEdit')\n",
    "plt.title('sourceEdit vs targetEdit')\n",
    "\n",
    "plt.subplot(1,2,2)\n",
    "plt.scatter(edit_n_size_pd['sourceSizeChange'],edit_n_size_pd['targetSizeChange'], alpha = 0.5)\n",
    "plt.xlim(0,1000)\n",
    "plt.ylim(0, 1000)\n",
    "plt.xlabel('sourceSizeChange')\n",
    "plt.ylabel('targetSizeChange')\n",
    "plt.title('sourceSizeChange vs targetSizeChange')"
   ]
  },
  {
   "cell_type": "code",
   "execution_count": 34,
   "metadata": {},
   "outputs": [
    {
     "name": "stdout",
     "output_type": "stream",
     "text": [
      "Pearson correlation coefficient of sorceEdit vs targetEdit is 0.33082292974130156\n",
      "Pearson correlation coefficient of sourceSizeChange vs targetSizeChange is 0.06346211542641847\n"
     ]
    }
   ],
   "source": [
    "# Pearson correlation coefficient of  sorceEdit vs targetEdit\n",
    "sesc_r = np.corrcoef(edit_n_size_pd['sourceEdit'][~np.isnan(edit_n_size_pd['sourceEdit'])],edit_n_size_pd['targetEdit'][~np.isnan(edit_n_size_pd['targetEdit'])])[0,1]\n",
    "print('Pearson correlation coefficient of sorceEdit vs targetEdit is '+str(sesc_r))\n",
    "\n",
    "# Pearson correlation coefficient of  sourceSizeChange vs targetSizeChange\n",
    "tetc_r = np.corrcoef(edit_n_size_pd['sourceSizeChange'][~np.isnan(edit_n_size_pd['sourceSizeChange'])],edit_n_size_pd['targetSizeChange'][~np.isnan(edit_n_size_pd['targetSizeChange'])])[0,1]\n",
    "print('Pearson correlation coefficient of sourceSizeChange vs targetSizeChange is '+ str(tetc_r))"
   ]
  },
  {
   "cell_type": "markdown",
   "metadata": {},
   "source": [
    "### Quantitative test discuession <a name=\"Quantitativedis\"></a>\n",
    "From the data describe table, there are 477 articles that have no missing data. The maximum source article edit amount since it got translated\n",
    " (`sourceEdit`) is 499 times (also see [note3](#Note3)), the maximum target article edit amount since the translation (`targetEdit`) is 120 times.  For the size change, the largest cumulative size change (either add or remove from article was counted) of the source article is 528,397 bytes and for target article is 36,104 bytes. Those articles were looked into the changing details in qualitative part.\n",
    "\n",
    "It can be seen from all histogram graph that most of edit or change size are concentrated on the lower amount. The majority of edit amount on source articles and target articles is either 0 time. The most frequent cumulative size change per article on source article size change and target article size change is 0 byte. The median cumulative size change of source article is 20 bytes and for target article is 25 bytes. Therefore, after the translation, most articles have little to no change.\n",
    "\n",
    "According to the graphs between edit amount and cumulative size change,  the trend of both graphs couldn't be identify. The Pearson correlation coefficient between source edit amount and source cumulative size change, and between target edit amount and target cumulative size change are low (0.2725 and 0.3912 respectively). The articles that have high edit amount but low size chage maybe because they were added or removed the minor misspelling or grammar, while the articles that have large size change but low edit amount may happen because new data were added to the articles at the same time.\n",
    "\n",
    "If the correlation between source edit amount and target edit amount or between source cumulative size change and target cumulative size change can be identify, then it may give an explaination whether the edit in source articles resulted in the edit in target articles or not. However, the trend between source edit and target edit, and between source size change and target size change cannot be identify. To investigate more detail in this topic, if the minor edit data are removed and only significant edit are lefted, it could reveal the relationship between variables which should be studied further."
   ]
  },
  {
   "cell_type": "markdown",
   "metadata": {},
   "source": [
    "## Qualitative <a name=\"Qualitative\"></a>"
   ]
  },
  {
   "cell_type": "markdown",
   "metadata": {},
   "source": [
    "The articles that have highest source article edit amount since it got translated (`sourceEdit`), target article edit amount since the translation (`targetEdit`), source article cumulative size change since it got translated (`sourceSizeChange`), and target article cumulative size change since it the translation (`targetSizeChange`) from quantitative part were chosen to do qualitative analysis."
   ]
  },
  {
   "cell_type": "markdown",
   "metadata": {},
   "source": [
    "### Source article with the highest edit amount since it got translated (sourceEdit) <a name=\"Highse\"></a>\n",
    "Reminding that the source article edit amount since it got translated (`sourceEdit`)was count from the day that the source article got translated into Thai ariticle (date equal to `dateCreatingTarget`), since the objective of this work is to see the difference and similarity in both articles after the translation."
   ]
  },
  {
   "cell_type": "code",
   "execution_count": 35,
   "metadata": {},
   "outputs": [
    {
     "data": {
      "text/html": [
       "<div>\n",
       "<style scoped>\n",
       "    .dataframe tbody tr th:only-of-type {\n",
       "        vertical-align: middle;\n",
       "    }\n",
       "\n",
       "    .dataframe tbody tr th {\n",
       "        vertical-align: top;\n",
       "    }\n",
       "\n",
       "    .dataframe thead th {\n",
       "        text-align: right;\n",
       "    }\n",
       "</style>\n",
       "<table border=\"1\" class=\"dataframe\">\n",
       "  <thead>\n",
       "    <tr style=\"text-align: right;\">\n",
       "      <th></th>\n",
       "      <th>sourceURL</th>\n",
       "      <th>targetURL</th>\n",
       "    </tr>\n",
       "  </thead>\n",
       "  <tbody>\n",
       "    <tr>\n",
       "      <th>376</th>\n",
       "      <td>//en.wikipedia.org/wiki/Deaths in 2019</td>\n",
       "      <td>//th.wikipedia.org/wiki/บุคคลที่เสียชีวิตในปี พ.ศ. 2562</td>\n",
       "    </tr>\n",
       "  </tbody>\n",
       "</table>\n",
       "</div>"
      ],
      "text/plain": [
       "                                  sourceURL  \\\n",
       "376  //en.wikipedia.org/wiki/Deaths in 2019   \n",
       "\n",
       "                                                   targetURL  \n",
       "376  //th.wikipedia.org/wiki/บุคคลที่เสียชีวิตในปี พ.ศ. 2562  "
      ]
     },
     "execution_count": 35,
     "metadata": {},
     "output_type": "execute_result"
    }
   ],
   "source": [
    "pd.options.display.max_colwidth = 100    # to view longer URL\n",
    "df[['sourceURL','targetURL']][df['sourceTitle'] == 'Deaths in 2019']"
   ]
  },
  {
   "cell_type": "markdown",
   "metadata": {},
   "source": [
    "From the quantitative part, the source article with the highest edit amount since it got translated is **\"Deaths in 2019\"**. The source article (English) has been edit at least 499 times with 60,613 bytes of cumulative size change. The target article (Thai) has been edit 52 times with cumulative size change 9,057 bytes.\n",
    "\n",
    "Since this is the topic about on going year, both articles still updating over time. Not all of edited content in English article were updated in Thai article. The length of both article are different. English article was splited by date and month, while Thai article was split by month and order by date. Thai well known persons who death in 2019 were added in Thai article, but only one Thai well known was added in English article.\n",
    "Interesting that the Deaths in 2019 Thai article was created by translating from English article, while [Deaths in 2018](https://th.wikipedia.org/wiki/%E0%B8%9A%E0%B8%B8%E0%B8%84%E0%B8%84%E0%B8%A5%E0%B8%97%E0%B8%B5%E0%B9%88%E0%B9%80%E0%B8%AA%E0%B8%B5%E0%B8%A2%E0%B8%8A%E0%B8%B5%E0%B8%A7%E0%B8%B4%E0%B8%95%E0%B9%83%E0%B8%99%E0%B8%9B%E0%B8%B5_%E0%B8%9E.%E0%B8%A8._2561) Thai article was not. Both English and Thai articles were edited by multiple editors.\n",
    "\n",
    "The talk section on English article has a lot of discussion, FAQ and guideline. While Thai article has no activity."
   ]
  },
  {
   "cell_type": "markdown",
   "metadata": {},
   "source": [
    "### Target article with the highest edit amount since the translation (targetEdit) <a name=\"Highte\"></a>"
   ]
  },
  {
   "cell_type": "code",
   "execution_count": 36,
   "metadata": {},
   "outputs": [
    {
     "data": {
      "text/html": [
       "<div>\n",
       "<style scoped>\n",
       "    .dataframe tbody tr th:only-of-type {\n",
       "        vertical-align: middle;\n",
       "    }\n",
       "\n",
       "    .dataframe tbody tr th {\n",
       "        vertical-align: top;\n",
       "    }\n",
       "\n",
       "    .dataframe thead th {\n",
       "        text-align: right;\n",
       "    }\n",
       "</style>\n",
       "<table border=\"1\" class=\"dataframe\">\n",
       "  <thead>\n",
       "    <tr style=\"text-align: right;\">\n",
       "      <th></th>\n",
       "      <th>sourceURL</th>\n",
       "      <th>targetURL</th>\n",
       "    </tr>\n",
       "  </thead>\n",
       "  <tbody>\n",
       "    <tr>\n",
       "      <th>324</th>\n",
       "      <td>//en.wikipedia.org/wiki/List of mango cultivars</td>\n",
       "      <td>//th.wikipedia.org/wiki/รายชื่อพันธุ์มะม่วง</td>\n",
       "    </tr>\n",
       "  </tbody>\n",
       "</table>\n",
       "</div>"
      ],
      "text/plain": [
       "                                           sourceURL  \\\n",
       "324  //en.wikipedia.org/wiki/List of mango cultivars   \n",
       "\n",
       "                                       targetURL  \n",
       "324  //th.wikipedia.org/wiki/รายชื่อพันธุ์มะม่วง  "
      ]
     },
     "execution_count": 36,
     "metadata": {},
     "output_type": "execute_result"
    }
   ],
   "source": [
    "df[['sourceURL','targetURL']][df['sourceTitle'] == 'List of mango cultivars']"
   ]
  },
  {
   "cell_type": "markdown",
   "metadata": {},
   "source": [
    "The target article with the highest edit amount since the translation is **List of mango cultivars** which have been edit for 120 times with 6,043 bytes of  cumulative size change. While the source of this article was edited 11 times with a cumulative size change 2,203 bytes.\n",
    "\n",
    "After compare the detail in both articles, at the transation ,all of the content in English got translated into Thai. No missing content was left untranslated. After the translation (since 18:17, 29 September 2018 which is the version of source article that got translated), there are some typo edited to the English article and added more cultivars such as Paige, Pickering, Pram Kai Mea, Rosa with some information. \n",
    "\n",
    "While Thai article only had minor editings. For example, changed transliterated country and cultivars names into Thai, changed links inside article from English to Thai Wikipedia articles, added country name to a sentence that had only state name (where in English article don't have country name in the same sentence). The cultivars that were added in English article was not added into Thai article.\n",
    "\n",
    "Unlike English article that has multiple editors, in Thai article almost all change come from a single editor. Moreover, the Thai article got edited in a close time and had small change per edit, which is the reason of high target edited amount in this article.\n",
    "\n",
    "There are discussion in the English article's talk page about article pattern, data add, tag add. However, no talk create in 2018 and 2019. While a talk page of Thai article has no activity."
   ]
  },
  {
   "cell_type": "markdown",
   "metadata": {},
   "source": [
    "### Source article with the highest cumulative size change since it got translated (sourceSizeChange) <a name=\"Highsc\"></a>\n",
    "Similar to `sourceEdit`, `sourceSizeChange` also count from the day that the source article got translated into Thai ariticle."
   ]
  },
  {
   "cell_type": "code",
   "execution_count": 37,
   "metadata": {},
   "outputs": [
    {
     "data": {
      "text/html": [
       "<div>\n",
       "<style scoped>\n",
       "    .dataframe tbody tr th:only-of-type {\n",
       "        vertical-align: middle;\n",
       "    }\n",
       "\n",
       "    .dataframe tbody tr th {\n",
       "        vertical-align: top;\n",
       "    }\n",
       "\n",
       "    .dataframe thead th {\n",
       "        text-align: right;\n",
       "    }\n",
       "</style>\n",
       "<table border=\"1\" class=\"dataframe\">\n",
       "  <thead>\n",
       "    <tr style=\"text-align: right;\">\n",
       "      <th></th>\n",
       "      <th>sourceURL</th>\n",
       "      <th>targetURL</th>\n",
       "    </tr>\n",
       "  </thead>\n",
       "  <tbody>\n",
       "    <tr>\n",
       "      <th>424</th>\n",
       "      <td>//en.wikipedia.org/wiki/Hindenburg disaster</td>\n",
       "      <td>//th.wikipedia.org/wiki/วินาศภัยไฮเดลเบิร์ก</td>\n",
       "    </tr>\n",
       "  </tbody>\n",
       "</table>\n",
       "</div>"
      ],
      "text/plain": [
       "                                       sourceURL  \\\n",
       "424  //en.wikipedia.org/wiki/Hindenburg disaster   \n",
       "\n",
       "                                       targetURL  \n",
       "424  //th.wikipedia.org/wiki/วินาศภัยไฮเดลเบิร์ก  "
      ]
     },
     "execution_count": 37,
     "metadata": {},
     "output_type": "execute_result"
    }
   ],
   "source": [
    "df[['sourceURL','targetURL']][df['sourceTitle'] == 'Hindenburg disaster']"
   ]
  },
  {
   "cell_type": "markdown",
   "metadata": {},
   "source": [
    "The source article that have highest cumulative size change is **Hindenburg disaster** which has 528,397 bytes changed in 70 editings. While the target article has only 125 bytes changed in 2 editings.\n",
    "\n",
    "Since 28 December 2018 (the version of source article that got translated), English article was edited to changed coding, fixed typo, fixed grammar, added references and data with references, and change URL references in the article. The english article also has multiple revert edit. It was revert with a reason of possible vandalism for 3 times. The talk page in English article has a lot of contents. The talk after 28 December 2018 is about adding reference from a movie. This content on the talk also had been edit into the article.\n",
    "\n",
    "Compare to English article, Thai article is not completed. Only the first paragraph got translated. The editings in Thai article just fixed typos and pattern. Which consistent with low edit amounts and low bytes changed on target ariticle. No talk on the talk page.\n",
    "\n",
    "In addition, the English article of Hindenburg disaster has unregistered editors more than Deaths in 2019, List of mango cultivars, and List of Seventeen concert tours English articles."
   ]
  },
  {
   "cell_type": "markdown",
   "metadata": {},
   "source": [
    "### Target article with the highest cumulative size change since it the translation (targetSizeChange) <a name=\"Hightc\"></a>"
   ]
  },
  {
   "cell_type": "code",
   "execution_count": 38,
   "metadata": {},
   "outputs": [
    {
     "data": {
      "text/html": [
       "<div>\n",
       "<style scoped>\n",
       "    .dataframe tbody tr th:only-of-type {\n",
       "        vertical-align: middle;\n",
       "    }\n",
       "\n",
       "    .dataframe tbody tr th {\n",
       "        vertical-align: top;\n",
       "    }\n",
       "\n",
       "    .dataframe thead th {\n",
       "        text-align: right;\n",
       "    }\n",
       "</style>\n",
       "<table border=\"1\" class=\"dataframe\">\n",
       "  <thead>\n",
       "    <tr style=\"text-align: right;\">\n",
       "      <th></th>\n",
       "      <th>sourceURL</th>\n",
       "      <th>targetURL</th>\n",
       "    </tr>\n",
       "  </thead>\n",
       "  <tbody>\n",
       "    <tr>\n",
       "      <th>34</th>\n",
       "      <td>//en.wikipedia.org/wiki/List of Seventeen concert tours</td>\n",
       "      <td>//th.wikipedia.org/wiki/รายชื่อทัวร์คอนเสิร์ตและแฟนมีตติงของเซเวนทีน</td>\n",
       "    </tr>\n",
       "  </tbody>\n",
       "</table>\n",
       "</div>"
      ],
      "text/plain": [
       "                                                  sourceURL  \\\n",
       "34  //en.wikipedia.org/wiki/List of Seventeen concert tours   \n",
       "\n",
       "                                                               targetURL  \n",
       "34  //th.wikipedia.org/wiki/รายชื่อทัวร์คอนเสิร์ตและแฟนมีตติงของเซเวนทีน  "
      ]
     },
     "execution_count": 38,
     "metadata": {},
     "output_type": "execute_result"
    }
   ],
   "source": [
    "df[['sourceURL','targetURL']][df['sourceTitle'] == 'List of Seventeen concert tours']"
   ]
  },
  {
   "cell_type": "markdown",
   "metadata": {},
   "source": [
    "The target article that have highest cumulative size change is **List of Seventeen concert tours** which has 36,104 bytes changed in 18 editings. While the source article has 44,978 bytes changed in 82 editings.\n",
    "\n",
    "Seventeen is an active boy band, therefore new contents are expected to be added. In english article more infomation was added after it got translated (after 6 July 2018), for example, information about consert date, fanmeeting, and minor edited on typo.\n",
    "\n",
    "When compare the first version of Thai article after translated to the source English ariticle, The translation to Thai was not completed. Only the first paragraph and the first table were translated. The later updated in Thai article was the translations from English article of the same version as the first translation (6 July 2018 version). Therefore, no update that made in English article was added into Thai article. Other than translation was a minor edited.\n",
    "\n",
    "There were about two regular editors in English article, while in Thai article was frequently edit by one person.\n",
    "\n",
    "The talk page in English article has one discussion about deleting related article on 2017, no other article from 2018 and 2019. Thai talk page don't have any discussion."
   ]
  },
  {
   "cell_type": "markdown",
   "metadata": {},
   "source": [
    "### Qualitative test discuession <a name=\"Qualitativedis\"></a>\n",
    "\n",
    "According to the chosen articles, all four articles in English version (source article) had new updates since the translation. The editings in English articles are changed coding, fixed grammar or added references. Other than minor editings, English articles also have new information added. Thai articles also had minor editing, however, only one Thai article that had more information updated after translation which is \"Deaths in 2019\". The updated contents in \"Deaths in 2019\" ariticle still not the same as updated content in English article. This probably because the well known persons of two groups are different. English articles usually have multiple editors that edited the pages, but Thai articles have only one or two editors."
   ]
  },
  {
   "cell_type": "markdown",
   "metadata": {},
   "source": [
    "# Conclusion <a name=\"Conclusion\"></a>\n",
    "From total wikipedia 130,431 articles, 2,669 articles was translated by using parallel translation. The total translated sections are 18300, most of the translation are from human (16,474) the rest was translated from machine translation services (from Yandex 1,642, from Google 165). From 477 articles that not have missing data, most of the articles in source and target articles have small amount of edit amount and size change since the translation date which showed that most articles have little to no change after the translation. The maximum source edit amount since translation is 499 times, the maximum target edit amount since translation is 120 times, the largest cumulative size change of source article is 528,397 bytes and for target article is 36,104 bytes. The relationship between edit and size change, source edit and target edit, and between source size change and target size change cannot be identify. In the qualitative analysis, all English articles that were explored have new content added since the translation date. While apart from minor edited, only one Thai article has new content. The other three Thai articles have no new content added.\n",
    "It is dificult to see the change in English articles when it get update since the translated date. The tool for editor which help compare both version may make it easier to see new update contents which can be update into Thai articles."
   ]
  },
  {
   "cell_type": "markdown",
   "metadata": {},
   "source": [
    "## Opportunities for furture study <a name=\"Opportunities\"></a>\n",
    "+ Improve data analysis for content translation from English to Thai, such as explore more possibility to find correlation between source article edit and target article edit after translation (eg compare edit of active source articles to target articles, compare edit of recently large amount data added in source articles to target articles), explore more articles in qualitative analysis.\n",
    "+ Use revisions API to collect comments to see what kind of words were used frequently in the comment (this may possible to do word count in English only). \n",
    "+ Explore more detail in the talk page. Did the discussion in the talk page relate to edit amount? And did the content from discussion in source articles later be add in target articles?\n",
    "+ Use revisions API to see which kind of article were edited by anonymous or regular users. Find if type of editors has any effect on edit amount.\n",
    "+ Use revisions API to collect target size change per edit data. Then compare target articles that have small size edit (possibly typo fixed) to the target articles that have large size edit (possibly significant data changed).\n",
    "+ Use page view API to compare page views between source and target articles and find if there are any relationship between page view and edit."
   ]
  },
  {
   "cell_type": "markdown",
   "metadata": {},
   "source": [
    "##  References <a name=\"References\"></a>\n",
    "https://paws-public.wmflabs.org/paws-public/User:Isaac_(WMF)/Content%20Translation%20Example.ipynb#Alternative-view-of-the-data-via-Pandas\n",
    "https://phabricator.wikimedia.org/T218003#5029680\n",
    "https://th.wikipedia.org/w/index.php?title=%E0%B8%9E%E0%B8%B4%E0%B9%80%E0%B8%A8%E0%B8%A9:%E0%B8%AA%E0%B8%96%E0%B8%B4%E0%B8%95%E0%B8%B4&action=raw\n",
    "https://www.mediawiki.org/wiki/API:Revisions\n",
    "https://www.mediawiki.org/wiki/Content_translation/Published_translations#List_of_published_source_and_target_titles"
   ]
  },
  {
   "cell_type": "markdown",
   "metadata": {},
   "source": [
    "---"
   ]
  },
  {
   "cell_type": "markdown",
   "metadata": {},
   "source": [
    "### Others data explore <a name=\"Others\"></a>"
   ]
  },
  {
   "cell_type": "markdown",
   "metadata": {},
   "source": [
    "+ Exploration of the out come of access parallel translation via dump: \n",
    "https://paws-public.wmflabs.org/paws-public/User:Supida_h/Data%20exploration%20on%20specific%20article%20via%20dump.ipynb\n",
    "\n",
    "\n",
    "+ Data exploration on page views: \n",
    "https://paws-public.wmflabs.org/paws-public/User:Supida_h/Data%20exploration%20on%20page%20views.ipynb"
   ]
  }
 ],
 "metadata": {
  "kernelspec": {
   "display_name": "Python 3",
   "language": "python",
   "name": "python3"
  },
  "language_info": {
   "codemirror_mode": {
    "name": "ipython",
    "version": 3
   },
   "file_extension": ".py",
   "mimetype": "text/x-python",
   "name": "python",
   "nbconvert_exporter": "python",
   "pygments_lexer": "ipython3",
   "version": "3.6.3"
  }
 },
 "nbformat": 4,
 "nbformat_minor": 2
}
