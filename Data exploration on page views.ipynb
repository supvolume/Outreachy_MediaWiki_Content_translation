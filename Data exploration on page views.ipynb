{
 "cells": [
  {
   "cell_type": "markdown",
   "metadata": {},
   "source": [
    "### Explore detail in Wikipedia article page views"
   ]
  },
  {
   "cell_type": "markdown",
   "metadata": {},
   "source": [
    "explore the possibility and steps require to compare page view and edit amount after the translation. "
   ]
  },
  {
   "cell_type": "code",
   "execution_count": 1,
   "metadata": {},
   "outputs": [
    {
     "name": "stdout",
     "output_type": "stream",
     "text": [
      "Collecting git+https://github.com/mediawiki-utilities/python-mwviews.git\n",
      "  Cloning https://github.com/mediawiki-utilities/python-mwviews.git to /tmp/pip-toku9mm_-build\n",
      "\u001b[33m  Ignoring futures: markers 'python_version < \"3.0\"' don't match your environment\u001b[0m\n",
      "Requirement already satisfied: requests in /srv/paws/lib/python3.6/site-packages (from mwviews==0.1.0)\n",
      "Requirement already satisfied: mwcli in /srv/paws/lib/python3.6/site-packages (from mwviews==0.1.0)\n",
      "Requirement already satisfied: mwapi in /srv/paws/lib/python3.6/site-packages (from mwviews==0.1.0)\n",
      "Requirement already satisfied: certifi>=2017.4.17 in /srv/paws/lib/python3.6/site-packages (from requests->mwviews==0.1.0)\n",
      "Requirement already satisfied: urllib3<1.24,>=1.21.1 in /srv/paws/lib/python3.6/site-packages (from requests->mwviews==0.1.0)\n",
      "Requirement already satisfied: chardet<3.1.0,>=3.0.2 in /srv/paws/lib/python3.6/site-packages (from requests->mwviews==0.1.0)\n",
      "Requirement already satisfied: idna<2.8,>=2.5 in /srv/paws/lib/python3.6/site-packages (from requests->mwviews==0.1.0)\n",
      "Requirement already satisfied: docopt in /srv/paws/lib/python3.6/site-packages (from mwcli->mwviews==0.1.0)\n",
      "Requirement already satisfied: para in /srv/paws/lib/python3.6/site-packages (from mwcli->mwviews==0.1.0)\n",
      "Installing collected packages: mwviews\n",
      "  Running setup.py install for mwviews ... \u001b[?25ldone\n",
      "\u001b[?25hSuccessfully installed mwviews-0.1.0\n"
     ]
    }
   ],
   "source": [
    "# install mwviews\n",
    "!pip install git+https://github.com/mediawiki-utilities/python-mwviews.git"
   ]
  },
  {
   "cell_type": "code",
   "execution_count": 2,
   "metadata": {},
   "outputs": [],
   "source": [
    "#imports\n",
    "import mwapi\n",
    "import mwviews\n",
    "from mwviews.api import PageviewsClient\n",
    "\n",
    "\n",
    "#import gzip\n",
    "#import json\n",
    "#import re\n",
    "\n",
    "import pandas as pd"
   ]
  },
  {
   "cell_type": "code",
   "execution_count": 3,
   "metadata": {
    "scrolled": true
   },
   "outputs": [],
   "source": [
    "p = PageviewsClient(user_agent='mwapi (python) -- outreachy content translation')"
   ]
  },
  {
   "cell_type": "markdown",
   "metadata": {},
   "source": [
    "### Page view of 'Deaths_in_2019', 'List of mango cultivars' , 'Hindenburg disaster' ,'List of Seventeen concert tours' articles"
   ]
  },
  {
   "cell_type": "code",
   "execution_count": 4,
   "metadata": {},
   "outputs": [
    {
     "data": {
      "text/html": [
       "<div>\n",
       "<style scoped>\n",
       "    .dataframe tbody tr th:only-of-type {\n",
       "        vertical-align: middle;\n",
       "    }\n",
       "\n",
       "    .dataframe tbody tr th {\n",
       "        vertical-align: top;\n",
       "    }\n",
       "\n",
       "    .dataframe thead th {\n",
       "        text-align: right;\n",
       "    }\n",
       "</style>\n",
       "<table border=\"1\" class=\"dataframe\">\n",
       "  <thead>\n",
       "    <tr style=\"text-align: right;\">\n",
       "      <th></th>\n",
       "      <th>Deaths_in_2019</th>\n",
       "      <th>Hindenburg_disaster</th>\n",
       "      <th>List_of_Seventeen_concert_tours</th>\n",
       "      <th>List_of_mango_cultivars</th>\n",
       "    </tr>\n",
       "  </thead>\n",
       "  <tbody>\n",
       "    <tr>\n",
       "      <th>2019-01-01</th>\n",
       "      <td>97059</td>\n",
       "      <td>2930</td>\n",
       "      <td>143</td>\n",
       "      <td>242</td>\n",
       "    </tr>\n",
       "    <tr>\n",
       "      <th>2019-01-02</th>\n",
       "      <td>119355</td>\n",
       "      <td>2679</td>\n",
       "      <td>150</td>\n",
       "      <td>254</td>\n",
       "    </tr>\n",
       "    <tr>\n",
       "      <th>2019-01-03</th>\n",
       "      <td>126611</td>\n",
       "      <td>10256</td>\n",
       "      <td>191</td>\n",
       "      <td>216</td>\n",
       "    </tr>\n",
       "    <tr>\n",
       "      <th>2019-01-04</th>\n",
       "      <td>102990</td>\n",
       "      <td>2935</td>\n",
       "      <td>175</td>\n",
       "      <td>296</td>\n",
       "    </tr>\n",
       "    <tr>\n",
       "      <th>2019-01-05</th>\n",
       "      <td>90772</td>\n",
       "      <td>3011</td>\n",
       "      <td>154</td>\n",
       "      <td>265</td>\n",
       "    </tr>\n",
       "  </tbody>\n",
       "</table>\n",
       "</div>"
      ],
      "text/plain": [
       "            Deaths_in_2019  Hindenburg_disaster  \\\n",
       "2019-01-01           97059                 2930   \n",
       "2019-01-02          119355                 2679   \n",
       "2019-01-03          126611                10256   \n",
       "2019-01-04          102990                 2935   \n",
       "2019-01-05           90772                 3011   \n",
       "\n",
       "            List_of_Seventeen_concert_tours  List_of_mango_cultivars  \n",
       "2019-01-01                              143                      242  \n",
       "2019-01-02                              150                      254  \n",
       "2019-01-03                              191                      216  \n",
       "2019-01-04                              175                      296  \n",
       "2019-01-05                              154                      265  "
      ]
     },
     "execution_count": 4,
     "metadata": {},
     "output_type": "execute_result"
    }
   ],
   "source": [
    "en_articles_pw = p.article_views('en.wikipedia', ['Deaths_in_2019', 'List of mango cultivars', 'Hindenburg disaster','List of Seventeen concert tours'], start = \"20190101\", end = \"20190301\")\n",
    "en_pw_df = pd.DataFrame(en_articles_pw).transpose()\n",
    "en_pw_df.head()"
   ]
  },
  {
   "cell_type": "code",
   "execution_count": 5,
   "metadata": {},
   "outputs": [
    {
     "data": {
      "text/html": [
       "<div>\n",
       "<style scoped>\n",
       "    .dataframe tbody tr th:only-of-type {\n",
       "        vertical-align: middle;\n",
       "    }\n",
       "\n",
       "    .dataframe tbody tr th {\n",
       "        vertical-align: top;\n",
       "    }\n",
       "\n",
       "    .dataframe thead th {\n",
       "        text-align: right;\n",
       "    }\n",
       "</style>\n",
       "<table border=\"1\" class=\"dataframe\">\n",
       "  <thead>\n",
       "    <tr style=\"text-align: right;\">\n",
       "      <th></th>\n",
       "      <th>บุคคลที่เสียชีวิตในปี_พ.ศ._2562</th>\n",
       "      <th>รายชื่อทัวร์คอนเสิร์ตและแฟนมีตติงของเซเวนทีน</th>\n",
       "      <th>รายชื่อพันธุ์มะม่วง</th>\n",
       "      <th>วินาศภัยไฮเดลเบิร์ก</th>\n",
       "    </tr>\n",
       "  </thead>\n",
       "  <tbody>\n",
       "    <tr>\n",
       "      <th>2019-01-01</th>\n",
       "      <td>NaN</td>\n",
       "      <td>6.0</td>\n",
       "      <td>6.0</td>\n",
       "      <td>NaN</td>\n",
       "    </tr>\n",
       "    <tr>\n",
       "      <th>2019-01-02</th>\n",
       "      <td>115.0</td>\n",
       "      <td>1.0</td>\n",
       "      <td>11.0</td>\n",
       "      <td>NaN</td>\n",
       "    </tr>\n",
       "    <tr>\n",
       "      <th>2019-01-03</th>\n",
       "      <td>192.0</td>\n",
       "      <td>3.0</td>\n",
       "      <td>28.0</td>\n",
       "      <td>NaN</td>\n",
       "    </tr>\n",
       "    <tr>\n",
       "      <th>2019-01-04</th>\n",
       "      <td>132.0</td>\n",
       "      <td>2.0</td>\n",
       "      <td>10.0</td>\n",
       "      <td>NaN</td>\n",
       "    </tr>\n",
       "    <tr>\n",
       "      <th>2019-01-05</th>\n",
       "      <td>126.0</td>\n",
       "      <td>1.0</td>\n",
       "      <td>10.0</td>\n",
       "      <td>16.0</td>\n",
       "    </tr>\n",
       "  </tbody>\n",
       "</table>\n",
       "</div>"
      ],
      "text/plain": [
       "            บุคคลที่เสียชีวิตในปี_พ.ศ._2562  \\\n",
       "2019-01-01                              NaN   \n",
       "2019-01-02                            115.0   \n",
       "2019-01-03                            192.0   \n",
       "2019-01-04                            132.0   \n",
       "2019-01-05                            126.0   \n",
       "\n",
       "            รายชื่อทัวร์คอนเสิร์ตและแฟนมีตติงของเซเวนทีน  รายชื่อพันธุ์มะม่วง  \\\n",
       "2019-01-01                                           6.0                  6.0   \n",
       "2019-01-02                                           1.0                 11.0   \n",
       "2019-01-03                                           3.0                 28.0   \n",
       "2019-01-04                                           2.0                 10.0   \n",
       "2019-01-05                                           1.0                 10.0   \n",
       "\n",
       "            วินาศภัยไฮเดลเบิร์ก  \n",
       "2019-01-01                  NaN  \n",
       "2019-01-02                  NaN  \n",
       "2019-01-03                  NaN  \n",
       "2019-01-04                  NaN  \n",
       "2019-01-05                 16.0  "
      ]
     },
     "execution_count": 5,
     "metadata": {},
     "output_type": "execute_result"
    }
   ],
   "source": [
    "th_articles_pw = p.article_views('th.wikipedia', ['บุคคลที่เสียชีวิตในปี_พ.ศ._2562', 'รายชื่อพันธุ์มะม่วง', 'วินาศภัยไฮเดลเบิร์ก','รายชื่อทัวร์คอนเสิร์ตและแฟนมีตติงของเซเวนทีน'], start = \"20190101\", end = \"20190301\")\n",
    "th_pw_df = pd.DataFrame(th_articles_pw).transpose()\n",
    "th_pw_df.head()"
   ]
  },
  {
   "cell_type": "markdown",
   "metadata": {},
   "source": [
    "From the data exploration on articles page view, this data can be use to compare page view in each article by using article's name. The start and end date can be modify to the range.\n",
    "\n",
    "The space (\" \") in article name have to be replace with underscore (_) \n",
    "\n",
    "The rate limit is 100 req/s\n",
    "\n",
    "To find a correlation between page view and edit after translation, the page view of the articles that were translated by parallel translation need to be selected from total data first."
   ]
  },
  {
   "cell_type": "markdown",
   "metadata": {},
   "source": [
    "### Get the English articles that were translated from English toThai\n",
    "same method as Content translation from English to Thai document"
   ]
  },
  {
   "cell_type": "code",
   "execution_count": 6,
   "metadata": {},
   "outputs": [],
   "source": [
    "# get session for English articles\n",
    "session = mwapi.Session(host='https://en.wikipedia.org',\n",
    "                        user_agent='mwapi (python) -- outreachy content translation')"
   ]
  },
  {
   "cell_type": "code",
   "execution_count": 10,
   "metadata": {},
   "outputs": [],
   "source": [
    "parameters = {'action':'query',\n",
    "              'format':'json',\n",
    "              'list':'cxpublishedtranslations',\n",
    "              'from':'en',\n",
    "              'to':'th',\n",
    "              'limit':500,\n",
    "              'offset':2500}"
   ]
  },
  {
   "cell_type": "code",
   "execution_count": 11,
   "metadata": {},
   "outputs": [],
   "source": [
    "res = session.get(parameters)"
   ]
  },
  {
   "cell_type": "code",
   "execution_count": 13,
   "metadata": {
    "scrolled": true
   },
   "outputs": [
    {
     "data": {
      "text/html": [
       "<div>\n",
       "<style scoped>\n",
       "    .dataframe tbody tr th:only-of-type {\n",
       "        vertical-align: middle;\n",
       "    }\n",
       "\n",
       "    .dataframe tbody tr th {\n",
       "        vertical-align: top;\n",
       "    }\n",
       "\n",
       "    .dataframe thead th {\n",
       "        text-align: right;\n",
       "    }\n",
       "</style>\n",
       "<table border=\"1\" class=\"dataframe\">\n",
       "  <thead>\n",
       "    <tr style=\"text-align: right;\">\n",
       "      <th></th>\n",
       "      <th>publishedDate</th>\n",
       "      <th>sourceLanguage</th>\n",
       "      <th>sourceRevisionId</th>\n",
       "      <th>sourceTitle</th>\n",
       "      <th>sourceURL</th>\n",
       "      <th>stats</th>\n",
       "      <th>targetLanguage</th>\n",
       "      <th>targetRevisionId</th>\n",
       "      <th>targetTitle</th>\n",
       "      <th>targetURL</th>\n",
       "      <th>translationId</th>\n",
       "    </tr>\n",
       "  </thead>\n",
       "  <tbody>\n",
       "    <tr>\n",
       "      <th>0</th>\n",
       "      <td>20180616090318</td>\n",
       "      <td>en</td>\n",
       "      <td>846093806</td>\n",
       "      <td>Sonia Scurfield</td>\n",
       "      <td>//en.wikipedia.org/wiki/Sonia Scurfield</td>\n",
       "      <td>{'any': 0.41319606925597, 'human': 0.313991576...</td>\n",
       "      <td>th</td>\n",
       "      <td>7678509</td>\n",
       "      <td>ซอนย่า สเกอร์ฟิลด์</td>\n",
       "      <td>//th.wikipedia.org/wiki/ซอนย่า สเกอร์ฟิลด์</td>\n",
       "      <td>491563</td>\n",
       "    </tr>\n",
       "    <tr>\n",
       "      <th>1</th>\n",
       "      <td>20180616092527</td>\n",
       "      <td>en</td>\n",
       "      <td>844984088</td>\n",
       "      <td>Andrew Massey (conductor)</td>\n",
       "      <td>//en.wikipedia.org/wiki/Andrew Massey (conductor)</td>\n",
       "      <td>{'any': 0.92383292383292, 'human': 0.883292383...</td>\n",
       "      <td>th</td>\n",
       "      <td>7678529</td>\n",
       "      <td>แอนดี แมสซีย์ (วาทยากร)</td>\n",
       "      <td>//th.wikipedia.org/wiki/แอนดี แมสซีย์ (วาทยากร)</td>\n",
       "      <td>491571</td>\n",
       "    </tr>\n",
       "    <tr>\n",
       "      <th>2</th>\n",
       "      <td>20180616093431</td>\n",
       "      <td>en</td>\n",
       "      <td>845176394</td>\n",
       "      <td>Sam Moore (publisher)</td>\n",
       "      <td>//en.wikipedia.org/wiki/Sam Moore (publisher)</td>\n",
       "      <td>{'any': 0.42849223946785, 'human': 0.428492239...</td>\n",
       "      <td>th</td>\n",
       "      <td>7678540</td>\n",
       "      <td>ซัม มัวร์ (ผู้เผยแพร่)</td>\n",
       "      <td>//th.wikipedia.org/wiki/ซัม มัวร์ (ผู้เผยแพร่)</td>\n",
       "      <td>491580</td>\n",
       "    </tr>\n",
       "    <tr>\n",
       "      <th>3</th>\n",
       "      <td>20180901233542</td>\n",
       "      <td>en</td>\n",
       "      <td>845016481</td>\n",
       "      <td>André Desvages</td>\n",
       "      <td>//en.wikipedia.org/wiki/André Desvages</td>\n",
       "      <td>{'any': 0.59139784946237, 'human': 0.479569892...</td>\n",
       "      <td>th</td>\n",
       "      <td>7678579</td>\n",
       "      <td>อ็องเดร เดอวาก</td>\n",
       "      <td>//th.wikipedia.org/wiki/อ็องเดร เดอวาก</td>\n",
       "      <td>491589</td>\n",
       "    </tr>\n",
       "    <tr>\n",
       "      <th>4</th>\n",
       "      <td>20180616095938</td>\n",
       "      <td>en</td>\n",
       "      <td>845590955</td>\n",
       "      <td>Johnnie Keyes</td>\n",
       "      <td>//en.wikipedia.org/wiki/Johnnie Keyes</td>\n",
       "      <td>{'any': 0.86713995943205, 'human': 0.735294117...</td>\n",
       "      <td>th</td>\n",
       "      <td>7678608</td>\n",
       "      <td>จอห์นนี่ คียส์</td>\n",
       "      <td>//th.wikipedia.org/wiki/จอห์นนี่ คียส์</td>\n",
       "      <td>491591</td>\n",
       "    </tr>\n",
       "  </tbody>\n",
       "</table>\n",
       "</div>"
      ],
      "text/plain": [
       "    publishedDate sourceLanguage sourceRevisionId                sourceTitle  \\\n",
       "0  20180616090318             en        846093806            Sonia Scurfield   \n",
       "1  20180616092527             en        844984088  Andrew Massey (conductor)   \n",
       "2  20180616093431             en        845176394      Sam Moore (publisher)   \n",
       "3  20180901233542             en        845016481             André Desvages   \n",
       "4  20180616095938             en        845590955              Johnnie Keyes   \n",
       "\n",
       "                                           sourceURL  \\\n",
       "0            //en.wikipedia.org/wiki/Sonia Scurfield   \n",
       "1  //en.wikipedia.org/wiki/Andrew Massey (conductor)   \n",
       "2      //en.wikipedia.org/wiki/Sam Moore (publisher)   \n",
       "3             //en.wikipedia.org/wiki/André Desvages   \n",
       "4              //en.wikipedia.org/wiki/Johnnie Keyes   \n",
       "\n",
       "                                               stats targetLanguage  \\\n",
       "0  {'any': 0.41319606925597, 'human': 0.313991576...             th   \n",
       "1  {'any': 0.92383292383292, 'human': 0.883292383...             th   \n",
       "2  {'any': 0.42849223946785, 'human': 0.428492239...             th   \n",
       "3  {'any': 0.59139784946237, 'human': 0.479569892...             th   \n",
       "4  {'any': 0.86713995943205, 'human': 0.735294117...             th   \n",
       "\n",
       "  targetRevisionId              targetTitle  \\\n",
       "0          7678509       ซอนย่า สเกอร์ฟิลด์   \n",
       "1          7678529  แอนดี แมสซีย์ (วาทยากร)   \n",
       "2          7678540   ซัม มัวร์ (ผู้เผยแพร่)   \n",
       "3          7678579           อ็องเดร เดอวาก   \n",
       "4          7678608           จอห์นนี่ คียส์   \n",
       "\n",
       "                                         targetURL translationId  \n",
       "0       //th.wikipedia.org/wiki/ซอนย่า สเกอร์ฟิลด์        491563  \n",
       "1  //th.wikipedia.org/wiki/แอนดี แมสซีย์ (วาทยากร)        491571  \n",
       "2   //th.wikipedia.org/wiki/ซัม มัวร์ (ผู้เผยแพร่)        491580  \n",
       "3           //th.wikipedia.org/wiki/อ็องเดร เดอวาก        491589  \n",
       "4           //th.wikipedia.org/wiki/จอห์นนี่ คียส์        491591  "
      ]
     },
     "execution_count": 13,
     "metadata": {},
     "output_type": "execute_result"
    }
   ],
   "source": [
    "df = pd.DataFrame(res['result']['translations'])\n",
    "df.head()"
   ]
  },
  {
   "cell_type": "code",
   "execution_count": 20,
   "metadata": {},
   "outputs": [
    {
     "data": {
      "text/plain": [
       "['Sonia_Scurfield',\n",
       " 'Andrew_Massey_(conductor)',\n",
       " 'Sam_Moore_(publisher)',\n",
       " 'André_Desvages',\n",
       " 'Johnnie_Keyes']"
      ]
     },
     "execution_count": 20,
     "metadata": {},
     "output_type": "execute_result"
    }
   ],
   "source": [
    "source_title_u = [t.replace(\" \",\"_\") for t in df['sourceTitle']]    # replace space with underscore for article_views\n",
    "source_title_u[0:5]"
   ]
  },
  {
   "cell_type": "code",
   "execution_count": 31,
   "metadata": {},
   "outputs": [
    {
     "data": {
      "text/html": [
       "<div>\n",
       "<style scoped>\n",
       "    .dataframe tbody tr th:only-of-type {\n",
       "        vertical-align: middle;\n",
       "    }\n",
       "\n",
       "    .dataframe tbody tr th {\n",
       "        vertical-align: top;\n",
       "    }\n",
       "\n",
       "    .dataframe thead th {\n",
       "        text-align: right;\n",
       "    }\n",
       "</style>\n",
       "<table border=\"1\" class=\"dataframe\">\n",
       "  <thead>\n",
       "    <tr style=\"text-align: right;\">\n",
       "      <th></th>\n",
       "      <th>2018-10-01 00:00:00</th>\n",
       "      <th>2018-07-01 00:00:00</th>\n",
       "      <th>2018-11-01 00:00:00</th>\n",
       "      <th>2018-12-01 00:00:00</th>\n",
       "      <th>2018-08-01 00:00:00</th>\n",
       "      <th>2018-09-01 00:00:00</th>\n",
       "    </tr>\n",
       "  </thead>\n",
       "  <tbody>\n",
       "    <tr>\n",
       "      <th>Andrew_Massey_(conductor)</th>\n",
       "      <td>127</td>\n",
       "      <td>1725</td>\n",
       "      <td>135</td>\n",
       "      <td>131</td>\n",
       "      <td>149</td>\n",
       "      <td>123</td>\n",
       "    </tr>\n",
       "    <tr>\n",
       "      <th>André_Desvages</th>\n",
       "      <td>142</td>\n",
       "      <td>778</td>\n",
       "      <td>148</td>\n",
       "      <td>162</td>\n",
       "      <td>234</td>\n",
       "      <td>156</td>\n",
       "    </tr>\n",
       "    <tr>\n",
       "      <th>Johnnie_Keyes</th>\n",
       "      <td>5927</td>\n",
       "      <td>7437</td>\n",
       "      <td>5672</td>\n",
       "      <td>6243</td>\n",
       "      <td>5997</td>\n",
       "      <td>5374</td>\n",
       "    </tr>\n",
       "    <tr>\n",
       "      <th>Sam_Moore_(publisher)</th>\n",
       "      <td>93</td>\n",
       "      <td>703</td>\n",
       "      <td>95</td>\n",
       "      <td>118</td>\n",
       "      <td>129</td>\n",
       "      <td>108</td>\n",
       "    </tr>\n",
       "    <tr>\n",
       "      <th>Sonia_Scurfield</th>\n",
       "      <td>206</td>\n",
       "      <td>1158</td>\n",
       "      <td>185</td>\n",
       "      <td>214</td>\n",
       "      <td>298</td>\n",
       "      <td>191</td>\n",
       "    </tr>\n",
       "  </tbody>\n",
       "</table>\n",
       "</div>"
      ],
      "text/plain": [
       "                           2018-10-01  2018-07-01  2018-11-01  2018-12-01  \\\n",
       "Andrew_Massey_(conductor)         127        1725         135         131   \n",
       "André_Desvages                    142         778         148         162   \n",
       "Johnnie_Keyes                    5927        7437        5672        6243   \n",
       "Sam_Moore_(publisher)              93         703          95         118   \n",
       "Sonia_Scurfield                   206        1158         185         214   \n",
       "\n",
       "                           2018-08-01  2018-09-01  \n",
       "Andrew_Massey_(conductor)         149         123  \n",
       "André_Desvages                    234         156  \n",
       "Johnnie_Keyes                    5997        5374  \n",
       "Sam_Moore_(publisher)             129         108  \n",
       "Sonia_Scurfield                   298         191  "
      ]
     },
     "execution_count": 31,
     "metadata": {},
     "output_type": "execute_result"
    }
   ],
   "source": [
    "en_articles_pw = p.article_views('en.wikipedia', source_title_u[0:5], granularity = \"monthly\", start = \"20180701\", end = \"20181231\") # test for first 5 articles, 6 months\n",
    "en_pw_df = pd.DataFrame(en_articles_pw)\n",
    "en_pw_df\n",
    "#TODO: change the order of the column"
   ]
  },
  {
   "cell_type": "markdown",
   "metadata": {},
   "source": [
    "It is possible to get the page view since the translation date by get date creating target as a start argument, then sum all page view. However, it not fair to compare the page view from different time range.\n",
    "\n",
    "This data examine of page view should indicate whether or not the article is popular, and if the more popularity resulted in more update. Therefore, the certain time range should be selected for page view information for every articles.\n",
    "\n",
    "To confirm the relationship between page view and edit, the qualitative analysis in article with high page view need to be done. To see type of content that got updated after the translation especially in Thai articles."
   ]
  },
  {
   "cell_type": "markdown",
   "metadata": {},
   "source": [
    "\n",
    "**TODO steps for examine relationship between page view and edit after translation date**\n",
    "1. store lists of article names for "
   ]
  },
  {
   "cell_type": "markdown",
   "metadata": {},
   "source": [
    "### compare English and Thai wikipedia"
   ]
  },
  {
   "cell_type": "code",
   "execution_count": 7,
   "metadata": {
    "scrolled": true
   },
   "outputs": [
    {
     "data": {
      "text/html": [
       "<div>\n",
       "<style scoped>\n",
       "    .dataframe tbody tr th:only-of-type {\n",
       "        vertical-align: middle;\n",
       "    }\n",
       "\n",
       "    .dataframe tbody tr th {\n",
       "        vertical-align: top;\n",
       "    }\n",
       "\n",
       "    .dataframe thead th {\n",
       "        text-align: right;\n",
       "    }\n",
       "</style>\n",
       "<table border=\"1\" class=\"dataframe\">\n",
       "  <thead>\n",
       "    <tr style=\"text-align: right;\">\n",
       "      <th></th>\n",
       "      <th>en.wikipedia</th>\n",
       "      <th>th.wikipedia</th>\n",
       "    </tr>\n",
       "  </thead>\n",
       "  <tbody>\n",
       "    <tr>\n",
       "      <th>2019-03-02</th>\n",
       "      <td>281585931</td>\n",
       "      <td>2302316</td>\n",
       "    </tr>\n",
       "    <tr>\n",
       "      <th>2019-03-03</th>\n",
       "      <td>302395290</td>\n",
       "      <td>2494971</td>\n",
       "    </tr>\n",
       "    <tr>\n",
       "      <th>2019-03-04</th>\n",
       "      <td>313267372</td>\n",
       "      <td>2665333</td>\n",
       "    </tr>\n",
       "    <tr>\n",
       "      <th>2019-03-05</th>\n",
       "      <td>296821448</td>\n",
       "      <td>2724327</td>\n",
       "    </tr>\n",
       "    <tr>\n",
       "      <th>2019-03-06</th>\n",
       "      <td>291010985</td>\n",
       "      <td>2569607</td>\n",
       "    </tr>\n",
       "  </tbody>\n",
       "</table>\n",
       "</div>"
      ],
      "text/plain": [
       "           en.wikipedia th.wikipedia\n",
       "2019-03-02    281585931      2302316\n",
       "2019-03-03    302395290      2494971\n",
       "2019-03-04    313267372      2665333\n",
       "2019-03-05    296821448      2724327\n",
       "2019-03-06    291010985      2569607"
      ]
     },
     "execution_count": 7,
     "metadata": {},
     "output_type": "execute_result"
    }
   ],
   "source": [
    "en_th_pw = p.project_views(['en.wikipedia', 'th.wikipedia'])\n",
    "en_th_pw_df =  pd.DataFrame(en_th_pw).transpose()\n",
    "en_th_pw_df.head()"
   ]
  },
  {
   "cell_type": "markdown",
   "metadata": {},
   "source": [
    "### view top Thai and English ariticles"
   ]
  },
  {
   "cell_type": "code",
   "execution_count": 8,
   "metadata": {},
   "outputs": [
    {
     "data": {
      "text/plain": [
       "[{'article': 'Main_Page', 'views': 481807103, 'rank': 1},\n",
       " {'article': 'Special:Search', 'views': 53954733, 'rank': 2},\n",
       " {'article': 'Captain_Marvel_(film)', 'views': 7070703, 'rank': 3},\n",
       " {'article': 'Luke_Perry', 'views': 6362644, 'rank': 4},\n",
       " {'article': 'Special:CreateAccount', 'views': 4683348, 'rank': 5},\n",
       " {'article': 'Us_(2019_film)', 'views': 4590483, 'rank': 6},\n",
       " {'article': 'Freddie_Mercury', 'views': 4260974, 'rank': 7},\n",
       " {'article': 'Deaths_in_2019', 'views': 3396927, 'rank': 8},\n",
       " {'article': 'Brie_Larson', 'views': 2988709, 'rank': 9},\n",
       " {'article': 'Murder_of_Dee_Dee_Blanchard', 'views': 2959276, 'rank': 10}]"
      ]
     },
     "execution_count": 8,
     "metadata": {},
     "output_type": "execute_result"
    }
   ],
   "source": [
    "p.top_articles('en.wikipedia', limit=10,  year=\"2019\", month =\"03\", day=\"all-days\")"
   ]
  },
  {
   "cell_type": "markdown",
   "metadata": {},
   "source": [
    "Interesting that in March, **Deaths in 2019** article was on rank 8."
   ]
  },
  {
   "cell_type": "code",
   "execution_count": 9,
   "metadata": {},
   "outputs": [
    {
     "data": {
      "text/plain": [
       "[{'article': 'หน้าหลัก', 'views': 564954, 'rank': 1},\n",
       " {'article': 'ธนาธร_จึงรุ่งเรืองกิจ', 'views': 375090, 'rank': 2},\n",
       " {'article': 'กรงกรรม', 'views': 277409, 'rank': 3},\n",
       " {'article': 'การเลือกตั้งแบบบัญชีรายชื่อ', 'views': 209666, 'rank': 4},\n",
       " {'article': 'พิเศษ:ค้นหา', 'views': 202408, 'rank': 5},\n",
       " {'article': 'การเลือกตั้งสมาชิกสภาผู้แทนราษฎรไทยเป็นการทั่วไป_พ.ศ._2562',\n",
       "  'views': 194897,\n",
       "  'rank': 6},\n",
       " {'article': 'ประยุทธ์_จันทร์โอชา', 'views': 191432, 'rank': 7},\n",
       " {'article': 'พรรคพลังประชารัฐ', 'views': 176193, 'rank': 8},\n",
       " {'article': 'พิเศษ:สร้างบัญชีผู้ใช้ใหม่', 'views': 141427, 'rank': 9},\n",
       " {'article': 'พรรคอนาคตใหม่', 'views': 141398, 'rank': 10}]"
      ]
     },
     "execution_count": 9,
     "metadata": {},
     "output_type": "execute_result"
    }
   ],
   "source": [
    "p.top_articles('th.wikipedia', limit=10, year=\"2019\", month =\"03\", day=\"all-days\")"
   ]
  },
  {
   "cell_type": "markdown",
   "metadata": {},
   "source": [
    "Because Thailand had general election in March, 6 out of top 10 articles are related to politics."
   ]
  },
  {
   "cell_type": "markdown",
   "metadata": {},
   "source": [
    "**References**\n",
    "\n",
    "https://paws-public.wmflabs.org/paws-public/User:Jtmorgan/ds4ux/paws-cheatsheet.ipynb\n",
    "\n",
    "https://wikitech.wikimedia.org/wiki/Analytics/AQS/Pageviews\n",
    "\n",
    "https://github.com/mediawiki-utilities/python-mwviews\n",
    "\n",
    "https://www.mediawiki.org/wiki/REST_API\n",
    "\n",
    "https://wikimedia.org/api/rest_v1/#!/Pageviews_data/get_metrics_pageviews_per_article_project_access_agent_article_granularity_start_end"
   ]
  }
 ],
 "metadata": {
  "kernelspec": {
   "display_name": "Python 3",
   "language": "python",
   "name": "python3"
  },
  "language_info": {
   "codemirror_mode": {
    "name": "ipython",
    "version": 3
   },
   "file_extension": ".py",
   "mimetype": "text/x-python",
   "name": "python",
   "nbconvert_exporter": "python",
   "pygments_lexer": "ipython3",
   "version": "3.6.3"
  }
 },
 "nbformat": 4,
 "nbformat_minor": 2
}
